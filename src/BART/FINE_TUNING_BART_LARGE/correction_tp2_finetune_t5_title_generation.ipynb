{
 "cells": [
  {
   "cell_type": "markdown",
   "metadata": {},
   "source": [
    "# Tache de generation de titre pour des articles. \n",
    "\n",
    "The dataset for Title Generation comprises a collection of articles along with their corresponding titles and subjects. Each entry in the dataset includes the full text of an article, its subject category, and the title that summarizes its content. This batchset serves as a valuable resource for natural language processing tasks, particularly in the domain of text summarization and headline generation. Researchers, developers, and enthusiasts can leverage this batchset to train machine learning models for automatic title generation, headline summarization, and related applications. With a diverse range of subjects and article texts, this batchset offers ample opportunities for experimentation and innovation in the field of natural language processing.\n",
    "\n",
    "link : https://www.kaggle.com/datasets/thejas2002/titlegen"
   ]
  },
  {
   "cell_type": "markdown",
   "metadata": {},
   "source": [
    "## Chargement des modules, des données et visualisations"
   ]
  },
  {
   "cell_type": "code",
   "execution_count": 32,
   "metadata": {},
   "outputs": [],
   "source": [
    "import numpy as np\n",
    "import pandas as pd \n",
    "from pandas import DataFrame\n",
    "\n",
    "import os\n",
    "import re\n",
    "import tqdm\n",
    "import multiprocessing\n",
    "from pathlib import Path\n",
    "\n",
    "from datetime import datetime \n",
    "import kagglehub\n",
    "\n",
    "import matplotlib.pyplot as plt\n",
    "\n",
    "from sklearn.model_selection import train_test_split\n",
    "\n",
    "from IPython.display import display, HTML\n",
    "\n",
    "\n",
    "import torch\n",
    "import torch.nn.functional as F\n",
    "from torch.utils.data import Dataset, DataLoader\n",
    "from torch.utils.data import DataLoader\n",
    "from torch.nn.utils.rnn import pad_sequence\n",
    "from torch.optim.lr_scheduler import ReduceLROnPlateau\n",
    "from torch.utils.tensorboard import SummaryWriter\n",
    "\n",
    "from datasets import Dataset\n",
    "\n",
    "# Importing the T5 modules from huggingface/transformers\n",
    "from transformers import AutoTokenizer\n",
    "from transformers import T5ForConditionalGeneration, T5Tokenizer\n",
    "\n",
    "\n",
    "from torch import cuda\n",
    "\n",
    "# Load the ROUGE metric\n",
    "import evaluate\n",
    "\n",
    "\n",
    "\n",
    "# link nootbooks associated : \n",
    "# https://www.kaggle.com/code/thejas2002/title-generation\n",
    "# https://www.kaggle.com/code/a3amat02/news-title-generation-using-t5\n",
    "\n",
    "# https://medium.com/nlplanet/a-full-guide-to-finetuning-t5-for-text2text-and-building-a-demo-with-streamlit-c72009631887\n",
    "# https://learnopencv.com/fine-tuning-t5/\n",
    "# https://github.com/Shivanandroy/T5-Finetuning-PyTorch\n"
   ]
  },
  {
   "cell_type": "markdown",
   "metadata": {},
   "source": [
    "## Configuration"
   ]
  },
  {
   "cell_type": "code",
   "execution_count": 2,
   "metadata": {},
   "outputs": [],
   "source": [
    "\n",
    "device = 'cuda' if cuda.is_available() else 'cpu'\n",
    "\n",
    "SEED = 0  # random seed \n",
    "\n",
    "# Set random seeds and deterministic pytorch for reproducibility\n",
    "torch.manual_seed(SEED) # pytorch random seed\n",
    "np.random.seed(SEED) # numpy random seed\n",
    "torch.backends.cudnn.deterministic = True\n",
    "\n",
    "MAX_LEN_TEXT = 512\n",
    "MAX_LEN_TITLE = 45\n",
    "MIN_LEN_TITLE = 3\n",
    "\n",
    "MODEL_TYPE = \"t5\"\n",
    "MODEL_NAME = \"t5-small\"\n",
    "\n",
    "NUM_PROCS = os.cpu_count() #print(NUM_PROCS)\n",
    "\n",
    "TRAIN_BATCH_SIZE = 4\n",
    "VALID_BATCH_SIZE = 6\n",
    "\n",
    "NUM_BEAMS=4\n",
    "\n",
    "LEARNING_RATE = 1e-4\n",
    "\n",
    "NB_EPOCHS = 15\n",
    "\n"
   ]
  },
  {
   "cell_type": "markdown",
   "metadata": {},
   "source": [
    "## Load dataset from Kaggle"
   ]
  },
  {
   "cell_type": "code",
   "execution_count": 3,
   "metadata": {},
   "outputs": [
    {
     "name": "stdout",
     "output_type": "stream",
     "text": [
      "Downloading from https://www.kaggle.com/api/v1/datasets/download/thejas2002/titlegen?dataset_version_number=2...\n"
     ]
    },
    {
     "name": "stderr",
     "output_type": "stream",
     "text": [
      "100%|██████████| 13.3M/13.3M [00:00<00:00, 14.9MB/s]"
     ]
    },
    {
     "name": "stdout",
     "output_type": "stream",
     "text": [
      "Extracting files...\n"
     ]
    },
    {
     "name": "stderr",
     "output_type": "stream",
     "text": [
      "\n"
     ]
    },
    {
     "name": "stdout",
     "output_type": "stream",
     "text": [
      "/home/ivanhoe/.cache/kagglehub/datasets/thejas2002/titlegen/versions/2\n",
      "[]\n",
      "['train.csv', 'test.csv']\n"
     ]
    }
   ],
   "source": [
    "os.makedirs(\"../data/tp2/titlegen\",exist_ok=True)\n",
    "\n",
    "# Download the dataset\n",
    "path = kagglehub.dataset_download(\"thejas2002/titlegen\",force_download=True)\n",
    "\n",
    "for dirname, _, filenames in os.walk(path):\n",
    "    print(dirname)\n",
    "    print(_)\n",
    "    print(filenames)\n",
    "    for filename in filenames:\n",
    "        Path(os.path.join(dirname, filename)).rename(os.path.join(\"../data/tp2/titlegen\", filename))"
   ]
  },
  {
   "cell_type": "code",
   "execution_count": 4,
   "metadata": {},
   "outputs": [
    {
     "name": "stdout",
     "output_type": "stream",
     "text": [
      "../data/tp2/titlegen/train.csv: CSV text\n"
     ]
    }
   ],
   "source": [
    "! file \"../data/tp2/titlegen/train.csv\""
   ]
  },
  {
   "cell_type": "code",
   "execution_count": 4,
   "metadata": {},
   "outputs": [
    {
     "name": "stdout",
     "output_type": "stream",
     "text": [
      "Dataset loaded successfully.\n",
      "<class 'pandas.core.frame.DataFrame'>\n",
      "Index: 2398 entries, 5906 to 5741\n",
      "Data columns (total 4 columns):\n",
      " #   Column   Non-Null Count  Dtype \n",
      "---  ------   --------------  ----- \n",
      " 0   title    2398 non-null   object\n",
      " 1   text     2398 non-null   object\n",
      " 2   subject  2398 non-null   object\n",
      " 3   date     2398 non-null   object\n",
      "dtypes: object(4)\n",
      "memory usage: 93.7+ KB\n",
      "None\n",
      "<class 'pandas.core.frame.DataFrame'>\n",
      "Index: 300 entries, 7436 to 431\n",
      "Data columns (total 4 columns):\n",
      " #   Column   Non-Null Count  Dtype \n",
      "---  ------   --------------  ----- \n",
      " 0   title    300 non-null    object\n",
      " 1   text     300 non-null    object\n",
      " 2   subject  300 non-null    object\n",
      " 3   date     300 non-null    object\n",
      "dtypes: object(4)\n",
      "memory usage: 11.7+ KB\n",
      "None\n",
      "<class 'pandas.core.frame.DataFrame'>\n",
      "Index: 300 entries, 10952 to 10218\n",
      "Data columns (total 4 columns):\n",
      " #   Column   Non-Null Count  Dtype \n",
      "---  ------   --------------  ----- \n",
      " 0   title    300 non-null    object\n",
      " 1   text     300 non-null    object\n",
      " 2   subject  300 non-null    object\n",
      " 3   date     300 non-null    object\n",
      "dtypes: object(4)\n",
      "memory usage: 11.7+ KB\n",
      "None\n"
     ]
    }
   ],
   "source": [
    "path_df = os.path.join(\"../data/tp2/titlegen\", \"train.csv\")\n",
    "\n",
    "encoding='utf-8'\n",
    "\n",
    "# Load training batch\n",
    "try:\n",
    "    df = pd.read_csv(path_df,encoding=encoding)\n",
    "    df.dropna(inplace=True)\n",
    "    print(\"Dataset loaded successfully.\")\n",
    "except Exception as e:\n",
    "    print(f\"Error loading Dataset: {e}\")\n",
    "\n",
    "#Avoir moins de données -> A commenter par la suite\n",
    "df = df.sample(int(df.shape[0]*0.2))\n",
    "\n",
    "train_df, test_df = train_test_split(df, test_size=0.2,random_state=0)\n",
    "eval_df, test_df = train_test_split(test_df, test_size=0.5,random_state=0)\n",
    "\n",
    "print(train_df.info())\n",
    "print(eval_df.info())\n",
    "print(test_df.info())\n"
   ]
  },
  {
   "cell_type": "markdown",
   "metadata": {},
   "source": [
    "## Question 1 : \n",
    "- Reprendre la fonction \"display_random_sample\" vu au tp1 pour visualiser les données"
   ]
  },
  {
   "cell_type": "code",
   "execution_count": 5,
   "metadata": {},
   "outputs": [
    {
     "data": {
      "text/html": [
       "<table border=\"1\" class=\"dataframe\">\n",
       "  <thead>\n",
       "    <tr style=\"text-align: right;\">\n",
       "      <th></th>\n",
       "      <th>title</th>\n",
       "      <th>text</th>\n",
       "      <th>subject</th>\n",
       "      <th>date</th>\n",
       "    </tr>\n",
       "  </thead>\n",
       "  <tbody>\n",
       "    <tr>\n",
       "      <th>1338</th>\n",
       "      <td>NuStar's St. Eustatius terminal damaged by Irma, no restart date set</td>\n",
       "      <td>HOUSTON (Reuters) - Nustar Energy s oil terminal in the Caribbean island of St. Eustatius suffered damage to several tanks and other equipment due to Hurricane Irma, but all the U.S. firm s employees are safe and no oil spills were registered, it said in a statement. NuStar s Statia terminal has the capacity to store 13.03 million barrels of crude and products. The company also said that no restart date has yet been set, and that it will be working on Thursday to restore power at the facility.  Despite the damage and major clean-up effort, we feel like we fared very well considering the significant power of this storm,  it said.</td>\n",
       "      <td>worldnews</td>\n",
       "      <td>September 7, 2017</td>\n",
       "    </tr>\n",
       "    <tr>\n",
       "      <th>13290</th>\n",
       "      <td>Chile's leftists stop short of endorsing presidential candidate Guillier</td>\n",
       "      <td>SANTIAGO (Reuters) - A coalition of Chilean leftist parties on Thursday challenged presidential contender Alejandro Guillier to clarify his social and economic policies, withholding the outright endorsement sought by the center-left candidate. Beatriz Sanchez, the flagbearer for the hard-left Frente Amplio coalition, also criticized conservative ex-president Sebastian Pinera, the frontrunner, and called him a  step back  for the country, in a statement issued after a party meeting. Pinera and Guillier will face off in a Dec. 17 runoff vote after placing first and second respectively in the first round of the election on Nov. 19. Sanchez, who campaigned on a promise to tax mining companies and the  super-rich  in order to boost social spending, finished just two percentage points behind Guillier.  Her stronger-than-anticipated performance spooked markets and ensured the bloc will have influence, both in Congress and over campaigning for the second round.  We are not the owners of anyone s vote, so we call on our supporters to make their voices heard in this second round, and to vote according to their own convictions and analysis,  Sanchez said on national television. She challenged Guillier to clarify his positions on her bloc s priorities, including overhauling the country s highly privatized pension system, forgiving the student loans of university graduates and re-writing Chile s dictatorship-era constitution.  This isn t about negotiating with us. It s about negotiating with those who overwhelmingly support these changes in our society,  she said. Guillier did not immediately respond to the demands of the Frente Amplio. But winning over Sanchez s 1.3 million voters is seen by Guillier s camp as essential in triumphing over Pinera. Guillier said at a campaign event on Monday that he  would need everyone s support  to advance. He has offered to forgive the debt of 40 percent of the country s poorest university students and said he remained open to rewriting Chile s constitution, both policies intended to appeal to leftist voters. But Guillier must walk a fine line, as a too-sharp turn to the left could push more moderate voters - historically a large and potent voting bloc in Chile - to Pinera. Both candidates would keep in place the top copper exporter s longstanding free-market economic model, but Pinera has promised investor-friendly policies to turbocharge growth, while Guillier wants to press on with outgoing President Michelle Bachelet s overhaul of education, taxes and labor laws.</td>\n",
       "      <td>worldnews</td>\n",
       "      <td>November 30, 2017</td>\n",
       "    </tr>\n",
       "    <tr>\n",
       "      <th>14822</th>\n",
       "      <td>Russia to the United States: Stay in Iran nuclear deal</td>\n",
       "      <td>UNITED NATIONS (Reuters) - Russia s U.N. ambassador, Vassily Nebenzia, said Moscow s message to the United States during a likely meeting of the parties to the Iran nuclear deal next week on the sidelines to the United Nations General Assembly was to stay in the deal.   That is not only our message, but the rest of the participants and those that are outside are trying to send this message across,  Nebenzia told reporters on Friday.</td>\n",
       "      <td>worldnews</td>\n",
       "      <td>September 15, 2017</td>\n",
       "    </tr>\n",
       "  </tbody>\n",
       "</table>"
      ],
      "text/plain": [
       "<IPython.core.display.HTML object>"
      ]
     },
     "metadata": {},
     "output_type": "display_data"
    }
   ],
   "source": [
    "\n",
    "\n",
    "def display_random_sample(dataset:DataFrame, num_examples:int=1)->None:\n",
    "\n",
    "    assert num_examples <= len(dataset), \"Can't pick more elements than there are in the dataset.\" # A way to raise an error if it's not true\n",
    "    sample_df = dataset.sample(num_examples)\n",
    "\n",
    "    display(HTML(sample_df.to_html()))\n",
    "\n",
    "display_random_sample(train_df,3) "
   ]
  },
  {
   "cell_type": "markdown",
   "metadata": {},
   "source": [
    "## Question 2 :\n",
    "- Charger le tokenizer associé au modèle T5-Small, afficher ensuite la taille du vocabulaire, les tokens spéciaux et le nombre maximal de tokens à fournir au model.\n",
    "- Etudier la normalisation et les sorties associés au tokenizer\n"
   ]
  },
  {
   "cell_type": "code",
   "execution_count": 6,
   "metadata": {},
   "outputs": [
    {
     "name": "stdout",
     "output_type": "stream",
     "text": [
      "32100\n",
      "<pad> 0\n",
      "</s> 1\n",
      "<unk> 2\n",
      "512\n"
     ]
    }
   ],
   "source": [
    "tokenizer = AutoTokenizer.from_pretrained(MODEL_NAME,clean_up_tokenization_spaces=True,legacy=False)\n",
    "#print(tokenizer)\n",
    "print(tokenizer.vocab_size)\n",
    "print(tokenizer.pad_token, tokenizer.pad_token_id)\n",
    "print(tokenizer.eos_token,tokenizer.eos_token_id)\n",
    "print(tokenizer.unk_token,tokenizer.unk_token_id)\n",
    "print(tokenizer.model_max_length)\n"
   ]
  },
  {
   "cell_type": "code",
   "execution_count": 7,
   "metadata": {},
   "outputs": [
    {
     "name": "stdout",
     "output_type": "stream",
     "text": [
      "BRUSSELS/KIEV (Reuters)  - Ukraine s EU membership ambitions will collide with the West s reform demands at a summit on Friday with EU  leaders ready to admonish Kiev for failing to implement anti-corruption laws that would bring it closer to the West,    officials say. url : http://univangers  caractères spéciaux : $=)&)ç,à_ué  balise html :<p>EU membership ambitions<p/> </s> \n",
      "['▁', 'BR', 'US', 'SEL', 'S', '/', 'KI', 'EV', '▁(', 'Reuters', ')', '▁', '-', '▁Ukraine', '▁', 's', '▁EU', '▁membership', '▁ambition', 's', '▁will', '▁coll', 'ide', '▁with', '▁the', '▁West', '▁', 's', '▁reform', '▁demands', '▁at', '▁', 'a', '▁summit', '▁on', '▁Friday', '▁with', '▁EU', '▁leaders', '▁ready', '▁to', '▁', 'a', 'd', 'mon', 'ish', '▁Kiev', '▁for', '▁failing', '▁to', '▁implement', '▁anti', '-', 'co', 'rruption', '▁laws', '▁that', '▁would', '▁bring', '▁it', '▁closer', '▁to', '▁the', '▁West', ',', '▁officials', '▁say', '.', '▁', 'url', '▁', ':', '▁http', '://', 'un', 'iva', 'nger', 's', '▁caractère', 's', '▁spéci', 'aux', '▁', ':', '▁$', '=', ')', '&', ')', 'ç', ',', 'à', '_', 'u', 'é', '▁bal', 'is', 'e', '▁', 'html', '▁', ':', '<', 'p', '>', 'EU', '▁membership', '▁ambition', 's', '<', 'p', '/', '>', '</s>']\n",
      "tensor([    3,  6934,  3063, 23143,   134,    87, 14108,  8878,    41, 18844,\n",
      "           61,     3,    18, 11897,     3,     7,  3371,  4757, 12517,     7,\n",
      "           56,  8029,  1599,    28,     8,  1244,     3,     7,  5139,  7328,\n",
      "           44,     3,     9, 13385,    30,  1701,    28,  3371,  2440,  1065,\n",
      "           12,     3,     9,    26,  2157,  1273, 30713,    21, 12385,    12,\n",
      "         4028,  1181,    18,   509, 27599,  3786,    24,   133,   830,    34,\n",
      "         4645,    12,     8,  1244,     6,  4298,   497,     5,     3, 16137,\n",
      "            3,    10,  2649,  1303,   202,  6823,  9369,     7, 17973,     7,\n",
      "        28301,  1724,     3,    10,  1514,  2423,    61,   184,    61,  8970,\n",
      "            6,    85,   834,    76,   154,  6561,   159,    15,     3, 10500,\n",
      "            3,    10,     2,   102,  3155, 12062,  4757, 12517,     7,     2,\n",
      "          102,    87,  3155,     1,     1]) tensor([1, 1, 1, 1, 1, 1, 1, 1, 1, 1, 1, 1, 1, 1, 1, 1, 1, 1, 1, 1, 1, 1, 1, 1,\n",
      "        1, 1, 1, 1, 1, 1, 1, 1, 1, 1, 1, 1, 1, 1, 1, 1, 1, 1, 1, 1, 1, 1, 1, 1,\n",
      "        1, 1, 1, 1, 1, 1, 1, 1, 1, 1, 1, 1, 1, 1, 1, 1, 1, 1, 1, 1, 1, 1, 1, 1,\n",
      "        1, 1, 1, 1, 1, 1, 1, 1, 1, 1, 1, 1, 1, 1, 1, 1, 1, 1, 1, 1, 1, 1, 1, 1,\n",
      "        1, 1, 1, 1, 1, 1, 1, 1, 1, 1, 1, 1, 1, 1, 1, 1, 1, 1, 1])\n"
     ]
    }
   ],
   "source": [
    "text = \"\"\"BRUSSELS/KIEV (Reuters)\n",
    " - Ukraine s EU membership ambitions will collide with the West s reform demands at a summit on Friday with EU\n",
    " leaders ready to admonish Kiev for failing to implement anti-corruption laws that would bring it closer to the West,\n",
    "   officials say. url : http://univangers  caractères spéciaux : $=)&)ç,à_ué  balise html :<p>EU membership ambitions<p/> </s>\n",
    "\"\"\"\n",
    "\n",
    "print(tokenizer.backend_tokenizer.normalizer.normalize_str(text))\n",
    "\n",
    "print(tokenizer.tokenize(text))\n",
    "\n",
    "source = tokenizer(text,return_tensors='pt')\n",
    "\n",
    "print(source[\"input_ids\"].squeeze(),source[\"attention_mask\"].squeeze())\n"
   ]
  },
  {
   "cell_type": "markdown",
   "metadata": {},
   "source": [
    "## Question 3 :\n",
    "- Proposer une fonction \"clean_text\" qui normalise les articles selon vos critères de pertinence.\n"
   ]
  },
  {
   "cell_type": "markdown",
   "metadata": {},
   "source": [
    "\n",
    "Détails de l'expression régulière :\n",
    "\n",
    "^ : L'accent circonflexe signifie le début de la ligne ou de la chaîne de caractères.\n",
    "\n",
    ". : Cela représente n'importe quel caractère (sauf les sauts de ligne).\n",
    "flags=re.DOTALL : Le paramètre flags=re.DOTALL permet à l'opérateur . de correspondre à n'importe quel caractère, y compris les sauts de ligne\n",
    "\n",
    "\\* : Cela signifie \"0 ou plusieurs occurrences\" du caractère précédent (ici, n'importe quel caractère).\n",
    "\n",
    "? : C'est un modificateur appelé \"lazy matching\" ou \"non-greedy\". Cela signifie qu'il va capturer le minimum possible de caractères, contrairement à un quantificateur * sans ? qui capte le maximum possible."
   ]
  },
  {
   "cell_type": "code",
   "execution_count": 8,
   "metadata": {},
   "outputs": [
    {
     "name": "stdout",
     "output_type": "stream",
     "text": [
      "Ukraine s EU membership ambitions will collide with the West s reform demands at a summit on Friday with EU leaders ready to admonish Kiev for failing to implement anti-corruption laws that would bring it closer to the West, officials say. url : caractères spéciaux : $=)&)ç,à_ué balise html :EU membership ambitions\n"
     ]
    }
   ],
   "source": [
    "import re   \n",
    "\n",
    "def clean_text(text):\n",
    "   \n",
    "   # Remove any text before and including a hyphen followed by a space\n",
    "   text = re.sub(r'^.*?- ', '', text, flags=re.DOTALL) \n",
    "\n",
    "   # Remove URLs (e.g., \"Visit https://example.com\" -> \"Visit\")\n",
    "   text = re.sub(r'http*?://\\S+|www\\.\\S+', '', text)\n",
    "\n",
    "   # Remove HTML tags (e.g., \"<p>text</p>\" -> \"text\")\n",
    "   text = re.sub(r'<.*?>+', '', text)\n",
    "\n",
    "   #Remove extra space\n",
    "   text = ' '.join(text.split())\n",
    "\n",
    "   # Remove newline characters (e.g., \"text\\nmore text\" -> \"text more text\")\n",
    "   text = re.sub(r'\\n', '', text)\n",
    "\n",
    "   return text\n",
    "\n",
    "# Example usage of the function\n",
    "result = clean_text(text)\n",
    "\n",
    "print(result)  "
   ]
  },
  {
   "cell_type": "markdown",
   "metadata": {},
   "source": [
    "## Question 4 :\n",
    "- Le modèle T5 est un modèle \"text to text\", l'ajout d'un contexte ou d'une consigne permet de guider la génération du modèle. Ajouter un prompte pour la génération de titre. -> \"Generate a title: \" pour effectuer une demande spécifique au modèle T5 "
   ]
  },
  {
   "cell_type": "code",
   "execution_count": 9,
   "metadata": {},
   "outputs": [],
   "source": [
    "train_df[\"text\"] = \"Generate a title: \" + train_df[\"text\"].apply(clean_text)\n",
    "eval_df[\"text\"] = \"Generate a title: \"  + eval_df[\"text\"].apply(clean_text)\n",
    "test_df[\"text\"] = \"Generate a title: \" + test_df[\"text\"].apply(clean_text)\n",
    "\n",
    "train_df = train_df[[\"text\",\"title\"]]\n",
    "\n",
    "eval_df = eval_df[[\"text\",\"title\"]]\n",
    "\n",
    "test_df = test_df[[\"text\",\"title\"]]"
   ]
  },
  {
   "cell_type": "code",
   "execution_count": 10,
   "metadata": {},
   "outputs": [
    {
     "data": {
      "text/html": [
       "<table border=\"1\" class=\"dataframe\">\n",
       "  <thead>\n",
       "    <tr style=\"text-align: right;\">\n",
       "      <th></th>\n",
       "      <th>text</th>\n",
       "      <th>title</th>\n",
       "    </tr>\n",
       "  </thead>\n",
       "  <tbody>\n",
       "    <tr>\n",
       "      <th>3471</th>\n",
       "      <td>Generate a title: Chinese President Xi Jinping said on Thursday China will be more open and transparent to foreign companies, including those from the United States. U.S. companies are also welcome to take part in China s Belt and Road initiative, Xi told a briefing in Beijing after talks with U.S. President Donald Trump. China s door to the world will only open wider, he said.</td>\n",
       "      <td>Xi says China to be more open, transparent to foreign companies including America's</td>\n",
       "    </tr>\n",
       "    <tr>\n",
       "      <th>7252</th>\n",
       "      <td>Generate a title: Iraq s parliament voted on Tuesday on a formula to halt financial transactions with the Kurdistan region, in retaliation for last week s independence referendum, Iraqi State TV said, without specifying if vote was binding on the government. The formula would preserve the interests of Kurdish citizens, the channel said, hinting that the measures would target the Kurdish leadership. The channel gave no further details.</td>\n",
       "      <td>Iraq parliament votes to halt transactions with Kurdistan: state TV</td>\n",
       "    </tr>\n",
       "    <tr>\n",
       "      <th>7637</th>\n",
       "      <td>Generate a title: Britain accused Russia on Thursday of carrying out a thinly veiled political attack on the head of the world s chemical weapons watchdog, escalating a row over the agency s investigation into toxic attacks in Syria. The comments, made during a session at the Hague-based Organisation for the Prohibition of Chemical Weapons (OPCW), were the latest sign of deep political division at the body over the Syrian conflict. In an Oct. 26 report the U.N.-OPCW investigation team blamed the Syrian government for an April 4 attack using the banned nerve agent sarin in the opposition-held town of Khan Sheikhoun, killing around 80 people. The Syrian government has denied using chemical weapons and Moscow rejected the findings. The mechanism was established in 2015 by the U.N. Security Council to identify individuals, organizations or governments responsible for chemical attacks in Syria. Its mandate expires on Nov. 17, but its work is incomplete. Moscow is poised to veto efforts by Britain, France, Germany and the United States to extend the mandate. U.S. representative Kenneth Ward told delegates at a meeting of the OPCW s 41-member executive council that they were fighting for the future of the Chemical Weapons Convention, the watchdog s founding treaty. There can be no doubt that since 2013, Syria has engaged in a grotesque and calculated campaign of chemical weapons use, he said. Russia continues to deny the truth and, instead, collaborates with the Assad regime. A draft Russian-Iranian proposal circulated at the OPCW and seen by Reuters called for a new investigation, to be based on samples taken from the attack site. The Syrian government itself has already presented samples from the scene to the investigation team, which tested positive for sarin. It is a thinly veiled political attack on the professional integrity of the director general, the British delegation said in a statement, referring to the OPCW s outgoing Turkish head, Ahmet Uzumcu. It seeks to undermine the capability and competence of the (OPCW). The Russian delegation at the OPCW could not be reached for comment. Syria joined the OPCW after a sarin attack on Aug. 21, 2013, killed hundreds of people in Ghouta, a district on the outskirts of Damascus. It has said it declared and destroyed all its chemical stockpile, but chemical attacks continue in the country s civil war.</td>\n",
       "      <td>Britain, Russia clash over Syria at chemical weapons body</td>\n",
       "    </tr>\n",
       "  </tbody>\n",
       "</table>"
      ],
      "text/plain": [
       "<IPython.core.display.HTML object>"
      ]
     },
     "metadata": {},
     "output_type": "display_data"
    }
   ],
   "source": [
    "display_random_sample(train_df,3) "
   ]
  },
  {
   "cell_type": "markdown",
   "metadata": {},
   "source": [
    "## Question 5 :\n",
    "- Proposer une visualisation du nombre moyen de tokens par article dans le jeu de données. "
   ]
  },
  {
   "cell_type": "code",
   "execution_count": 56,
   "metadata": {},
   "outputs": [
    {
     "name": "stderr",
     "output_type": "stream",
     "text": [
      "Token indices sequence length is longer than the specified maximum sequence length for this model (725 > 512). Running this sequence through the model will result in indexing errors\n"
     ]
    }
   ],
   "source": [
    "text_input_ids_train = train_df[\"text\"].apply(lambda text : len(tokenizer(text, truncation=False,return_tensors='pt')[\"input_ids\"].squeeze()) )\n",
    "\n",
    "title_input_ids_train = train_df[\"title\"].apply(lambda title : len(tokenizer(title, truncation=False,return_tensors='pt')[\"input_ids\"].squeeze()) )"
   ]
  },
  {
   "cell_type": "code",
   "execution_count": 57,
   "metadata": {},
   "outputs": [
    {
     "data": {
      "image/png": "[encoded data removed]",
      "text/plain": [
       "<Figure size 640x480 with 1 Axes>"
      ]
     },
     "metadata": {},
     "output_type": "display_data"
    },
    {
     "name": "stdout",
     "output_type": "stream",
     "text": [
      "0.46371976647206004 % des texts avec plus de 512 tokens\n"
     ]
    }
   ],
   "source": [
    "text_input_ids_train.hist(bins=120,label='nb of token')\n",
    "\n",
    "# Add a vertical line at x=512 with red color\n",
    "plt.axvline(x=512, color='r', linestyle='--', label='max token : 512')\n",
    "plt.axvline(x=text_input_ids_train.mean(), color='g', linestyle='-', label=f'mean  : {text_input_ids_train.mean()}')\n",
    "\n",
    "# Adding title and labels \n",
    "plt.title('Histogram of token number in text content') \n",
    "plt.xlabel('Length') \n",
    "plt.ylabel('Count') \n",
    "plt.legend()\n",
    "  \n",
    "# Display the histogram \n",
    "plt.show() \n",
    "\n",
    "print(f\"{text_input_ids_train[text_input_ids_train > 512].count()/text_input_ids_train.count()} % des texts avec plus de 512 tokens\")"
   ]
  },
  {
   "cell_type": "code",
   "execution_count": 58,
   "metadata": {},
   "outputs": [
    {
     "data": {
      "image/png": "[encoded data removed]",
      "text/plain": [
       "<Figure size 640x480 with 1 Axes>"
      ]
     },
     "metadata": {},
     "output_type": "display_data"
    }
   ],
   "source": [
    "title_input_ids_train.hist(bins=200,label='nb of token')\n",
    "\n",
    "# Add a vertical line at x=512 with red color\n",
    "plt.axvline(x=title_input_ids_train.mean() , color='g', linestyle='-', label=f'mean : {title_input_ids_train.mean()}')\n",
    "\n",
    "# Adding title and labels \n",
    "plt.title('Histogram of token number in title content') \n",
    "plt.xlabel('Length') \n",
    "plt.ylabel('Count') \n",
    "plt.legend()\n",
    "  \n",
    "# Display the histogram \n",
    "plt.show() \n"
   ]
  },
  {
   "cell_type": "markdown",
   "metadata": {},
   "source": [
    "## Dataset Pipeline preprocessing\n",
    "\n",
    "### Question 6 : \n",
    "\n",
    "* Construire des datasets train, eval et test avec la classe Dataset. \n",
    "\n",
    "* Ajout des colonnes 'input_ids', 'attention_mask', 'labels', 'labels_mask' avec la méthode map et une fonction \"tokenize_function\"\n",
    "\n",
    "* Construire des dataloaders associés qui rajoutent le padding pour chaque batch."
   ]
  },
  {
   "cell_type": "code",
   "execution_count": 11,
   "metadata": {},
   "outputs": [],
   "source": [
    "#transforme a pandas df to a torch dataset object \n",
    "train_dataset = Dataset.from_pandas(train_df)\n",
    "eval_dataset = Dataset.from_pandas(eval_df)\n",
    "test_dataset = Dataset.from_pandas(test_df)\n"
   ]
  },
  {
   "cell_type": "code",
   "execution_count": 12,
   "metadata": {},
   "outputs": [],
   "source": [
    "# Define a function for tokenization\n",
    "def tokenize_function(example,truncation=True):\n",
    "\n",
    "    source = tokenizer(text=example[\"text\"], truncation=truncation, max_length=MAX_LEN_TEXT, return_tensors='pt')\n",
    "    source_ids = source['input_ids'].squeeze()\n",
    "    source_mask = source['attention_mask'].squeeze()\n",
    "    \n",
    "   \n",
    "    target = tokenizer(text_target=example[\"title\"], truncation=truncation, max_length=MAX_LEN_TITLE, return_tensors='pt')\n",
    "    target_ids = target['input_ids'].squeeze()\n",
    "    target_mask = target['attention_mask'].squeeze()\n",
    "\n",
    "    return {\n",
    "        'input_ids': source_ids, \n",
    "        'attention_mask': source_mask,\n",
    "        'labels': target_ids, \n",
    "        'labels_mask': target_mask\n",
    "        }"
   ]
  },
  {
   "cell_type": "code",
   "execution_count": 13,
   "metadata": {},
   "outputs": [
    {
     "name": "stderr",
     "output_type": "stream",
     "text": [
      "Map (num_proc=12): 100%|██████████| 2398/2398 [00:01<00:00, 1521.43 examples/s]\n",
      "Map (num_proc=12): 100%|██████████| 300/300 [00:00<00:00, 786.79 examples/s]\n",
      "Map (num_proc=12): 100%|██████████| 300/300 [00:00<00:00, 869.92 examples/s] \n"
     ]
    }
   ],
   "source": [
    "train_dataset = train_dataset.map(tokenize_function,num_proc=NUM_PROCS)\n",
    "eval_dataset = eval_dataset.map(tokenize_function,num_proc=NUM_PROCS)\n",
    "test_dataset = test_dataset.map(tokenize_function,num_proc=NUM_PROCS)\n"
   ]
  },
  {
   "cell_type": "code",
   "execution_count": 14,
   "metadata": {},
   "outputs": [],
   "source": [
    "# Define the custom collate function\n",
    "def collate_fn(batch):\n",
    "    \"\"\"\n",
    "    Custom collate function that add padding for each batch.\n",
    "    \"\"\"\n",
    "\n",
    "    # Pad the tokenized content\n",
    "    padded_text_ids = pad_sequence(\n",
    "        [torch.tensor(item['input_ids'], dtype=torch.long) for item in batch], \n",
    "        batch_first=True, \n",
    "        padding_value=tokenizer.pad_token_id)\n",
    "    \n",
    "    padded_text_mask = pad_sequence(\n",
    "        [torch.tensor(item['attention_mask'], dtype=torch.long) for item in batch], \n",
    "        batch_first=True, \n",
    "        padding_value=0)\n",
    "\n",
    "    padded_title_ids = pad_sequence(\n",
    "        [torch.tensor(item['labels'], dtype=torch.long) for item in batch], \n",
    "        batch_first=True, \n",
    "        padding_value=tokenizer.pad_token_id)     \n",
    "    \n",
    "    padded_title_mask = pad_sequence(\n",
    "        [torch.tensor(item['labels_mask'], \n",
    "                      dtype=torch.long) for item in batch], \n",
    "                      batch_first=True, \n",
    "                      padding_value=0)\n",
    "    \n",
    "\n",
    "    return {\n",
    "        'input_ids':padded_text_ids,\n",
    "        'attention_mask':padded_text_mask,\n",
    "        'labels':padded_title_ids,\n",
    "        'labels_mask':padded_title_mask\n",
    "    }\n"
   ]
  },
  {
   "cell_type": "code",
   "execution_count": 15,
   "metadata": {},
   "outputs": [],
   "source": [
    "\n",
    "train_params = {\n",
    "    'batch_size': TRAIN_BATCH_SIZE,\n",
    "    'shuffle': True,\n",
    "    'collate_fn':collate_fn,\n",
    "    'num_workers': NUM_PROCS\n",
    "    }\n",
    "\n",
    "val_params = {\n",
    "    'batch_size': VALID_BATCH_SIZE,\n",
    "    'shuffle': False,\n",
    "    'collate_fn':collate_fn,\n",
    "    'num_workers': NUM_PROCS\n",
    "    }\n",
    "\n",
    "test_params = {\n",
    "    'batch_size': VALID_BATCH_SIZE,\n",
    "    'shuffle': False,\n",
    "    'collate_fn':collate_fn,\n",
    "    'num_workers': NUM_PROCS\n",
    "    }\n",
    "\n",
    "# This will be used down for training and validation stage for the model.\n",
    "train_loader = DataLoader(train_dataset, **train_params)\n",
    "eval_loader = DataLoader(eval_dataset, **val_params)\n",
    "test_loader = DataLoader(test_dataset, **val_params)"
   ]
  },
  {
   "cell_type": "code",
   "execution_count": 17,
   "metadata": {},
   "outputs": [
    {
     "name": "stdout",
     "output_type": "stream",
     "text": [
      "input_ids\n",
      "torch.Size([4, 512])\n",
      "attention_mask\n",
      "torch.Size([4, 512])\n",
      "labels\n",
      "torch.Size([4, 22])\n",
      "labels_mask\n",
      "torch.Size([4, 22])\n",
      "tensor([[ 6939,  2206,     3,  ...,     9,  1401,     1],\n",
      "        [ 6939,  2206,     3,  ...,     7,    91,     1],\n",
      "        [ 6939,  2206,     3,  ...,     0,     0,     0],\n",
      "        [ 6939,  2206,     3,  ..., 10678,    53,     1],\n",
      "        [ 6939,  2206,     3,  ...,    56, 17540,     1],\n",
      "        [ 6939,  2206,     3,  ...,     0,     0,     0]])\n",
      "tensor([[1, 1, 1,  ..., 1, 1, 1],\n",
      "        [1, 1, 1,  ..., 1, 1, 1],\n",
      "        [1, 1, 1,  ..., 0, 0, 0],\n",
      "        [1, 1, 1,  ..., 1, 1, 1],\n",
      "        [1, 1, 1,  ..., 1, 1, 1],\n",
      "        [1, 1, 1,  ..., 0, 0, 0]])\n",
      "tensor([[   86,   166,   719,     6,  2523, 11872,     7,  5139,    78,   412,\n",
      "             5,   567,     5,    54,   942,   423,  1055,     1],\n",
      "        [ 4066,    18,   509, 27599, 14837,  4792,    57,  1450,  6417,    16,\n",
      "         21384,     1,     0,     0,     0,     0,     0,     0],\n",
      "        [ 7819, 16735,  4640,  2902,    38, 27463,  8303,     7,    45,  3730,\n",
      "             1,     0,     0,     0,     0,     0,     0,     0],\n",
      "        [ 6243,    20,    17, 13676,   192,    21,     3,    31, 14389,    18,\n",
      "          3897,    31,  1087,     1,     0,     0,     0,     0],\n",
      "        [ 4263, 13074, 22038,   845,   255,   751,    31,    17,     3,     7,\n",
      "           697,     3, 11557,    44, 18045,     1,     0,     0],\n",
      "        [ 2386,  4973,     7,     3,    31,  5463,   120,   365,   610,     6,\n",
      "            31, 11923, 10195,    10,  2095,  5752,     1,     0]])\n",
      "tensor([[1, 1, 1, 1, 1, 1, 1, 1, 1, 1, 1, 1, 1, 1, 1, 1, 1, 1],\n",
      "        [1, 1, 1, 1, 1, 1, 1, 1, 1, 1, 1, 1, 0, 0, 0, 0, 0, 0],\n",
      "        [1, 1, 1, 1, 1, 1, 1, 1, 1, 1, 1, 0, 0, 0, 0, 0, 0, 0],\n",
      "        [1, 1, 1, 1, 1, 1, 1, 1, 1, 1, 1, 1, 1, 1, 0, 0, 0, 0],\n",
      "        [1, 1, 1, 1, 1, 1, 1, 1, 1, 1, 1, 1, 1, 1, 1, 1, 0, 0],\n",
      "        [1, 1, 1, 1, 1, 1, 1, 1, 1, 1, 1, 1, 1, 1, 1, 1, 1, 0]])\n"
     ]
    }
   ],
   "source": [
    "for batch in train_loader:\n",
    "    for key in batch.keys():\n",
    "        print(key)\n",
    "        print(batch[key].shape)\n",
    "\n",
    "    break\n",
    "\n",
    "for batch in eval_loader:\n",
    "    for key in batch.keys():\n",
    "        print(batch[key])\n",
    "    break"
   ]
  },
  {
   "cell_type": "markdown",
   "metadata": {},
   "source": [
    "## Chargement du modèle T5\n",
    "\n",
    "## Question 7 :\n",
    "- Charger le modèle T5-small pré-entrainé avec une tête de décodage pour la génération de contenu \"T5ForConditionalGeneration\". \n",
    "\n",
    "- Étudier l'architecture du model chargé et affichier le nombre de paramètres \n",
    "\n",
    "- Tester le model sur les données sans entrainement pour la tâche de génération de titre. Évaluer la qualité des réponses, utiliser la métric \"ROUGE\" pour afficher un score sur les données test. "
   ]
  },
  {
   "cell_type": "code",
   "execution_count": 18,
   "metadata": {},
   "outputs": [
    {
     "name": "stdout",
     "output_type": "stream",
     "text": [
      "60,506,624 total parameters.\n",
      "60,506,624 training parameters.\n"
     ]
    }
   ],
   "source": [
    "# Further this model is sent to device (GPU/TPU) for using the hardware.\n",
    "t5_model = T5ForConditionalGeneration.from_pretrained(MODEL_NAME)\n",
    "t5_model = t5_model.to(device)\n",
    "\n",
    "# Total parameters and trainable parameters.\n",
    "total_params = sum(p.numel() for p in t5_model.parameters())\n",
    "print(f\"{total_params:,} total parameters.\")\n",
    "total_trainable_params = sum(p.numel() for p in t5_model.parameters() if p.requires_grad)\n",
    "print(f\"{total_trainable_params:,} training parameters.\")"
   ]
  },
  {
   "cell_type": "code",
   "execution_count": 67,
   "metadata": {},
   "outputs": [
    {
     "name": "stdout",
     "output_type": "stream",
     "text": [
      "T5ForConditionalGeneration(\n",
      "  (shared): Embedding(32128, 512)\n",
      "  (encoder): T5Stack(\n",
      "    (embed_tokens): Embedding(32128, 512)\n",
      "    (block): ModuleList(\n",
      "      (0): T5Block(\n",
      "        (layer): ModuleList(\n",
      "          (0): T5LayerSelfAttention(\n",
      "            (SelfAttention): T5Attention(\n",
      "              (q): Linear(in_features=512, out_features=512, bias=False)\n",
      "              (k): Linear(in_features=512, out_features=512, bias=False)\n",
      "              (v): Linear(in_features=512, out_features=512, bias=False)\n",
      "              (o): Linear(in_features=512, out_features=512, bias=False)\n",
      "              (relative_attention_bias): Embedding(32, 8)\n",
      "            )\n",
      "            (layer_norm): T5LayerNorm()\n",
      "            (dropout): Dropout(p=0.1, inplace=False)\n",
      "          )\n",
      "          (1): T5LayerFF(\n",
      "            (DenseReluDense): T5DenseActDense(\n",
      "              (wi): Linear(in_features=512, out_features=2048, bias=False)\n",
      "              (wo): Linear(in_features=2048, out_features=512, bias=False)\n",
      "              (dropout): Dropout(p=0.1, inplace=False)\n",
      "              (act): ReLU()\n",
      "            )\n",
      "            (layer_norm): T5LayerNorm()\n",
      "            (dropout): Dropout(p=0.1, inplace=False)\n",
      "          )\n",
      "        )\n",
      "      )\n",
      "      (1-5): 5 x T5Block(\n",
      "        (layer): ModuleList(\n",
      "          (0): T5LayerSelfAttention(\n",
      "            (SelfAttention): T5Attention(\n",
      "              (q): Linear(in_features=512, out_features=512, bias=False)\n",
      "              (k): Linear(in_features=512, out_features=512, bias=False)\n",
      "              (v): Linear(in_features=512, out_features=512, bias=False)\n",
      "              (o): Linear(in_features=512, out_features=512, bias=False)\n",
      "            )\n",
      "            (layer_norm): T5LayerNorm()\n",
      "            (dropout): Dropout(p=0.1, inplace=False)\n",
      "          )\n",
      "          (1): T5LayerFF(\n",
      "            (DenseReluDense): T5DenseActDense(\n",
      "              (wi): Linear(in_features=512, out_features=2048, bias=False)\n",
      "              (wo): Linear(in_features=2048, out_features=512, bias=False)\n",
      "              (dropout): Dropout(p=0.1, inplace=False)\n",
      "              (act): ReLU()\n",
      "            )\n",
      "            (layer_norm): T5LayerNorm()\n",
      "            (dropout): Dropout(p=0.1, inplace=False)\n",
      "          )\n",
      "        )\n",
      "      )\n",
      "    )\n",
      "    (final_layer_norm): T5LayerNorm()\n",
      "    (dropout): Dropout(p=0.1, inplace=False)\n",
      "  )\n",
      "  (decoder): T5Stack(\n",
      "    (embed_tokens): Embedding(32128, 512)\n",
      "    (block): ModuleList(\n",
      "      (0): T5Block(\n",
      "        (layer): ModuleList(\n",
      "          (0): T5LayerSelfAttention(\n",
      "            (SelfAttention): T5Attention(\n",
      "              (q): Linear(in_features=512, out_features=512, bias=False)\n",
      "              (k): Linear(in_features=512, out_features=512, bias=False)\n",
      "              (v): Linear(in_features=512, out_features=512, bias=False)\n",
      "              (o): Linear(in_features=512, out_features=512, bias=False)\n",
      "              (relative_attention_bias): Embedding(32, 8)\n",
      "            )\n",
      "            (layer_norm): T5LayerNorm()\n",
      "            (dropout): Dropout(p=0.1, inplace=False)\n",
      "          )\n",
      "          (1): T5LayerCrossAttention(\n",
      "            (EncDecAttention): T5Attention(\n",
      "              (q): Linear(in_features=512, out_features=512, bias=False)\n",
      "              (k): Linear(in_features=512, out_features=512, bias=False)\n",
      "              (v): Linear(in_features=512, out_features=512, bias=False)\n",
      "              (o): Linear(in_features=512, out_features=512, bias=False)\n",
      "            )\n",
      "            (layer_norm): T5LayerNorm()\n",
      "            (dropout): Dropout(p=0.1, inplace=False)\n",
      "          )\n",
      "          (2): T5LayerFF(\n",
      "            (DenseReluDense): T5DenseActDense(\n",
      "              (wi): Linear(in_features=512, out_features=2048, bias=False)\n",
      "              (wo): Linear(in_features=2048, out_features=512, bias=False)\n",
      "              (dropout): Dropout(p=0.1, inplace=False)\n",
      "              (act): ReLU()\n",
      "            )\n",
      "            (layer_norm): T5LayerNorm()\n",
      "            (dropout): Dropout(p=0.1, inplace=False)\n",
      "          )\n",
      "        )\n",
      "      )\n",
      "      (1-5): 5 x T5Block(\n",
      "        (layer): ModuleList(\n",
      "          (0): T5LayerSelfAttention(\n",
      "            (SelfAttention): T5Attention(\n",
      "              (q): Linear(in_features=512, out_features=512, bias=False)\n",
      "              (k): Linear(in_features=512, out_features=512, bias=False)\n",
      "              (v): Linear(in_features=512, out_features=512, bias=False)\n",
      "              (o): Linear(in_features=512, out_features=512, bias=False)\n",
      "            )\n",
      "            (layer_norm): T5LayerNorm()\n",
      "            (dropout): Dropout(p=0.1, inplace=False)\n",
      "          )\n",
      "          (1): T5LayerCrossAttention(\n",
      "            (EncDecAttention): T5Attention(\n",
      "              (q): Linear(in_features=512, out_features=512, bias=False)\n",
      "              (k): Linear(in_features=512, out_features=512, bias=False)\n",
      "              (v): Linear(in_features=512, out_features=512, bias=False)\n",
      "              (o): Linear(in_features=512, out_features=512, bias=False)\n",
      "            )\n",
      "            (layer_norm): T5LayerNorm()\n",
      "            (dropout): Dropout(p=0.1, inplace=False)\n",
      "          )\n",
      "          (2): T5LayerFF(\n",
      "            (DenseReluDense): T5DenseActDense(\n",
      "              (wi): Linear(in_features=512, out_features=2048, bias=False)\n",
      "              (wo): Linear(in_features=2048, out_features=512, bias=False)\n",
      "              (dropout): Dropout(p=0.1, inplace=False)\n",
      "              (act): ReLU()\n",
      "            )\n",
      "            (layer_norm): T5LayerNorm()\n",
      "            (dropout): Dropout(p=0.1, inplace=False)\n",
      "          )\n",
      "        )\n",
      "      )\n",
      "    )\n",
      "    (final_layer_norm): T5LayerNorm()\n",
      "    (dropout): Dropout(p=0.1, inplace=False)\n",
      "  )\n",
      "  (lm_head): Linear(in_features=512, out_features=32128, bias=False)\n",
      ")\n"
     ]
    }
   ],
   "source": [
    "print(t5_model)"
   ]
  },
  {
   "cell_type": "markdown",
   "metadata": {},
   "source": [
    "### Tester le model sur les données alétaoires :"
   ]
  },
  {
   "cell_type": "code",
   "execution_count": 19,
   "metadata": {},
   "outputs": [
    {
     "name": "stdout",
     "output_type": "stream",
     "text": [
      "Generate a title: Greece and Turkey squared up over old disputes on Thursday during a state visit to Athens by President Tayyip Erdogan that quickly descended into verbal sparring over a list of historical grievances. Designed to boost relations between the two nations, the first visit of a Turkish president in 65 years quickly turned into a blunt grudge-fest between the NATO allies. The two countries agreed to revive a consultation process for confidence-building measures, Prime Minister Alexis Tsipras said. By the end of the first day, both sides appeared to pull back from what threatened to be a massive diplomatic flop. There is a lot more which unites us, from that which divides us, as long as there is will, Greek President Prokopis Pavlopoulos told a state banquet in Erdogan s honor. We can live side by side, Erdogan said in a translation provided by Greek state TV. Our aim is to build the future differently, with unity, coexistence and solidarity, he said. Earlier, he and Erdogan turned what was expected to be a staid welcoming ceremony into an unprecedented bout of diplomatic sparring over a host of differences. The topics vented ranged from discrimination against Muslims in northern Greece to Turkey s military presence in ethnically-split Cyprus, and loose interpretations of an international treaty defining the borders of the two countries. The 1923 Treaty of Lausanne covered a range of issues and defined the borders of modern-day Turkey, and by extension, Greece. Erdogan told Greek media outlets before he even landed that the treaty needed a revision, putting Greeks in a defensive mode. At the noon meeting, Pavlopoulos ruled out any change to the treaty while a stern-looking Erdogan, seated beside him, said there were details in the treaty which required clarity. Though Erdogan focused on religious rights of the Turkish Muslim community in northern Greece, he said there were also problems on military topics . The truth, is I m a little confused regarding if what he is putting on the table is to modernize, to update, to comply with the Lausanne Treaty, Tsipras said at a news conference as Erdogan stood at his side. SHOW-STOPPER The long exchange between Erdogan and the Greek president was the show-stopper, however. This is the bedrock of our friendship, said Pavlopoulos, referring to the treaty and pointedly telling his VIP guest he was a Professor of Law. It has no flaws, it does not need to be reviewed or updated, he said. Erdogan responded by saying it was a treaty signed 94 years ago and did not apply only to Greece or Turkey but also included countries such as Japan. It was also supposed to protect the Turkish minority in northern Greece, whom Erdogan said were still discriminated against. You can t find such treatment of my Greek citizens in Turkey, Erdogan said in a 30-minute, back-and-forth exchange where notes were slipped to both him and Pavlopoulos by ministers. Erdogan is the first Turkish president to visit Athens since 1952. He is now doing his best to make sure that the next visit will not take place in the next 150 years, said Wolfango Piccoli, Co-President of Teneo Intelligence. In Northern Greece, Erdogan said, Greece insisted on calling the Turkish community there Muslim rather than using the term Turkish . There are more than 100,000 of them in the area known as Western Thrace. They can t accept the word Turk being written outside a school, said Erdogan, who is due to visit the region on Friday. Tsipras told Erdogan he too had sensitivities on religious freedoms. The Greek government, he said, had moved ahead with the reconstruction of a series of mosques around the country. Yet not once did it cross our mind to hold an Orthodox religious ceremony in Fethiye mosque (in Athens) as wrongly, in my view, is taking place repeatedly in Hagia Sophia, he said of the imposing structure in Istanbul that was once a church, converted into a mosque and now a museum. There have been readings of the Koran in Hagia Sophia in recent years. The NATO partners teetered on the brink of war in 1974, 1987 and 1996 over long-running disputes on ethnically divided Cyprus, mineral rights in the Aegean Sea and sovereignty over uninhabited islets in that sea. We allowed your re-entry to NATO, Erdogan told Pavlopoulos, referring to the departure of Greece from the bloc in 1974 after Turkey s invasion of Cyprus in response to a brief Greek-inspired coup. It rejoined in 1980. If it wasn t for us, you wouldn t have been able to (rejoin), Erdogan said. While relations have improved, many Greeks believe Turkey has territorial aspirations against their country, an issue Erdogan said on at least two occasions was not the case. \n",
      "\n",
      "\n",
      "Generate title:  landed that the treaty needed a revision, putting Greeks in a defensive mode. at the noon meeting, Pavlopoulos ruled out any change to the treaty. the \n",
      "\n",
      "\n",
      "Expected title:  Greece and Turkey trade barbs as Erdogan visits Athens\n"
     ]
    }
   ],
   "source": [
    "text, title = train_df.sample()[[\"text\",\"title\"]].values[0]\n",
    "\n",
    "print(text,'\\n\\n')\n",
    "\n",
    "inputs = [text]\n",
    "\n",
    "inputs = tokenizer(inputs, max_length=515, truncation=True, return_tensors=\"pt\")\n",
    "\n",
    "with torch.no_grad():\n",
    "    t5_model.eval()\n",
    "    output = t5_model.generate(**inputs.to(device), num_beams=NUM_BEAMS, do_sample=True, min_length=MIN_LEN_TITLE, max_length=MAX_LEN_TITLE)\n",
    "    decoded_output = tokenizer.batch_decode(output, skip_special_tokens=True)[0]\n",
    "\n",
    "\n",
    "    print(\"Generate title: \" , decoded_output,\"\\n\\n\")\n",
    "    print(\"Expected title: \" , title)\n"
   ]
  },
  {
   "cell_type": "markdown",
   "metadata": {},
   "source": [
    "### Rouge métrique"
   ]
  },
  {
   "cell_type": "code",
   "execution_count": 20,
   "metadata": {},
   "outputs": [
    {
     "name": "stderr",
     "output_type": "stream",
     "text": [
      "Downloading builder script: 100%|██████████| 6.27k/6.27k [00:00<00:00, 5.37MB/s]\n"
     ]
    },
    {
     "name": "stdout",
     "output_type": "stream",
     "text": [
      "{'rouge1': 0.7833333333333332, 'rouge2': 0.5833333333333334, 'rougeL': 0.7833333333333332, 'rougeLsum': 0.7833333333333332}\n"
     ]
    }
   ],
   "source": [
    "rouge = evaluate.load('rouge')\n",
    "candidates = [\"Summarization is cool\",\"I love Machine Learning\",\"Good night\"]\n",
    "\n",
    "references = [\"Summarization is beneficial and cool\",\"I think i love Machine Learning\",\"Good night everyone!\"]\n",
    "             \n",
    "results = rouge.compute(predictions=candidates, references=references)\n",
    "print(results)"
   ]
  },
  {
   "cell_type": "code",
   "execution_count": 73,
   "metadata": {},
   "outputs": [
    {
     "name": "stderr",
     "output_type": "stream",
     "text": [
      "total iter: 50: 50 iter [05:51,  7.03s/ iter]"
     ]
    },
    {
     "name": "stdout",
     "output_type": "stream",
     "text": [
      "0.03894645866762816\n",
      "0.01194770379798255\n"
     ]
    },
    {
     "name": "stderr",
     "output_type": "stream",
     "text": [
      "\n"
     ]
    }
   ],
   "source": [
    "t5_model.eval()\n",
    "\n",
    "rouge1_score, rouge2_score = 0, 0\n",
    "\n",
    "with torch.no_grad():\n",
    "    \n",
    "    for _, batch in tqdm.tqdm(enumerate(eval_loader, 0),desc=f'total iter: {len(eval_loader)}', unit=\" iter\"):\n",
    "        y_ids = batch[\"labels\"]\n",
    "        y_txt = tokenizer.batch_decode(y_ids, skip_special_tokens=True)\n",
    "\n",
    "        #print(y_txt)\n",
    "\n",
    "        ###ENCODER input\n",
    "        ids = batch[\"input_ids\"].to(device)\n",
    "        mask = batch[\"attention_mask\"].to(device)\n",
    "        #print(ids.size(),mask.size())\n",
    "        \n",
    "        generated_ids = t5_model.generate(\n",
    "              input_ids = ids,\n",
    "              attention_mask = mask, \n",
    "              max_length=MAX_LEN_TITLE, \n",
    "              num_beams=NUM_BEAMS,\n",
    "              repetition_penalty=2.5, \n",
    "              length_penalty=1.0, \n",
    "              early_stopping=True\n",
    "              )   \n",
    "        #print(generated_ids)\n",
    "\n",
    "        generated_txt = tokenizer.batch_decode(generated_ids, skip_special_tokens=True)\n",
    "\n",
    "        #print(generated_txt)\n",
    "\n",
    "        # Compute ROUGE scores here\n",
    "        rouge_results = rouge.compute(predictions=generated_txt, references=y_txt)\n",
    "        rouge1_score += rouge_results['rouge1']\n",
    "        rouge2_score += rouge_results['rouge2']\n",
    "        \n",
    "\n",
    "print(rouge1_score/(len(eval_loader)*VALID_BATCH_SIZE))\n",
    "print(rouge2_score/(len(eval_loader)*VALID_BATCH_SIZE))"
   ]
  },
  {
   "cell_type": "markdown",
   "metadata": {},
   "source": [
    "# Entrainer les poids du modèle et sauvegarder la meilleures version du code"
   ]
  },
  {
   "cell_type": "markdown",
   "metadata": {},
   "source": [
    "## Question 8 : \n",
    "- Compléter la fonction main ci-dessous pour lancer l'entrainement des poids du modèle à la tâche de génération de titre :\n",
    "\n",
    "    *  https://www.kaggle.com/code/fadyelkbeer/train-t5-model-from-scratch"
   ]
  },
  {
   "cell_type": "code",
   "execution_count": 29,
   "metadata": {},
   "outputs": [],
   "source": [
    "\n",
    "def train(tokenizer, model, device, loader, optimizer, epoch, writer):\n",
    "    \"\"\"\n",
    "    Function to call for training with the parameters passed from main function\n",
    "    \n",
    "    \"\"\"\n",
    "\n",
    "    rouge1_score, rouge2_score = 0, 0\n",
    "    total_loss = 0.0\n",
    "\n",
    "    model.train()\n",
    "\n",
    "    for _, batch in tqdm.tqdm(enumerate(loader, 0),desc=f'Total iterations: {len(loader)}', unit=\" it\"):\n",
    "\n",
    "        y_ids = batch[\"labels\"].to(device, dtype=torch.long).contiguous()\n",
    "\n",
    "        labels = y_ids.clone().detach()\n",
    "        labels[labels == tokenizer.pad_token_id] = -100 # ignore index pour la cross entropie\n",
    "\n",
    "        decoder_input_ids = model._shift_right(y_ids)\n",
    "        decoder_attention_mask = batch[\"labels_mask\"].to(device, dtype=torch.long).contiguous()\n",
    "\n",
    "        ids = batch[\"input_ids\"].to(device, dtype=torch.long)\n",
    "        mask = batch[\"attention_mask\"].to(device, dtype=torch.long)\n",
    "\n",
    "        outputs = model(\n",
    "            input_ids=ids,\n",
    "            attention_mask=mask,\n",
    "            decoder_input_ids=decoder_input_ids,\n",
    "            decoder_attention_mask = decoder_attention_mask,\n",
    "            labels=labels\n",
    "        )\n",
    "\n",
    "\n",
    "        loss = outputs[0]\n",
    "        total_loss += loss.item()\n",
    "        \n",
    "        writer.add_scalar(f\"batch_loss/train\", loss/len(batch), epoch*len(loader) + _ )\n",
    "\n",
    "        if _ % 15 == 0:\n",
    "            y_txt = tokenizer.batch_decode(y_ids, skip_special_tokens=True)\n",
    "            \n",
    "            generated_ids = model.generate(\n",
    "              input_ids = ids,\n",
    "              attention_mask = mask, \n",
    "              max_length=MAX_LEN_TEXT, \n",
    "              num_beams=NUM_BEAMS,\n",
    "              repetition_penalty=2.5, \n",
    "              length_penalty=1.0, \n",
    "              early_stopping=True\n",
    "              )\n",
    "            generated_txt = tokenizer.batch_decode(generated_ids, skip_special_tokens=True)\n",
    "            #print(generated_txt)\n",
    "\n",
    "            # Compute ROUGE scores here\n",
    "            rouge_results = rouge.compute(predictions=generated_txt, references=y_txt)\n",
    "            rouge1_score += rouge_results['rouge1']\n",
    "            rouge2_score += rouge_results['rouge2']\n",
    "\n",
    "            writer.add_scalar(f\"batch_rouge1/train\", rouge_results['rouge1'], epoch*len(loader) + _ )\n",
    "            writer.add_scalar(f\"batch_rouge2/train\", rouge_results['rouge2'], epoch*len(loader) + _ )\n",
    "            #print(rouge_results)\n",
    "\n",
    "        optimizer.zero_grad()\n",
    "        loss.backward()\n",
    "        optimizer.step()\n",
    "\n",
    "    return {\"loss\": total_loss/len(loader) , \"rouge1\":rouge1_score/len(loader), \"rouge2\":rouge2_score/len(loader)} "
   ]
  },
  {
   "cell_type": "code",
   "execution_count": 30,
   "metadata": {},
   "outputs": [],
   "source": [
    "\n",
    "def eval(tokenizer, model, device, loader): #epoch,writer \n",
    "\n",
    "    \"\"\"\n",
    "    Function to be called for evaluate with the parameters passed from main function\n",
    "\n",
    "    \"\"\"\n",
    "    rouge1_score, rouge2_score = 0, 0\n",
    "    total_loss = 0.0\n",
    "\n",
    "    model.eval()\n",
    "    with torch.no_grad():\n",
    "        for _, batch in tqdm.tqdm(enumerate(loader, 0),desc=f'Total iterations: {len(loader)}', unit=\" it\"):\n",
    "            y_ids = batch[\"labels\"].to(device, dtype=torch.long).contiguous()\n",
    "\n",
    "            labels = y_ids.clone().detach()\n",
    "            labels[labels == tokenizer.pad_token_id] = -100 # ignore index pour la cross entropie\n",
    "\n",
    "            decoder_input_ids = model._shift_right(y_ids)\n",
    "            decoder_attention_mask = batch[\"labels_mask\"].to(device, dtype=torch.long).contiguous()\n",
    "\n",
    "            ids = batch[\"input_ids\"].to(device, dtype=torch.long)\n",
    "            mask = batch[\"attention_mask\"].to(device, dtype=torch.long)\n",
    "\n",
    "            outputs = model(\n",
    "                input_ids=ids,\n",
    "                attention_mask=mask,\n",
    "                decoder_input_ids=decoder_input_ids,\n",
    "                decoder_attention_mask = decoder_attention_mask,\n",
    "                labels=labels\n",
    "            )\n",
    "\n",
    "\n",
    "            loss = outputs[0]\n",
    "            total_loss += loss.item()\n",
    "                \n",
    "            #writer.add_scalar(f\"batch_loss/eval\", loss/len(batch), epoch*len(loader) + _ )\n",
    "\n",
    "            if _ % 15 == 0:\n",
    "                y_txt = tokenizer.batch_decode(y_ids, skip_special_tokens=True)\n",
    "                \n",
    "                generated_ids = model.generate(\n",
    "                    input_ids = ids,\n",
    "                    attention_mask = mask, \n",
    "                    max_length=MAX_LEN_TEXT, \n",
    "                    num_beams=NUM_BEAMS,\n",
    "                    repetition_penalty=2.5, \n",
    "                    length_penalty=1.0, \n",
    "                    early_stopping=True\n",
    "                )\n",
    "                generated_txt = tokenizer.batch_decode(generated_ids, skip_special_tokens=True)\n",
    "                #print(generated_txt)\n",
    "\n",
    "                # Compute ROUGE scores here\n",
    "                rouge_results = rouge.compute(predictions=generated_txt, references=y_txt)\n",
    "                rouge1_score += rouge_results['rouge1']\n",
    "                rouge2_score += rouge_results['rouge2']\n",
    "\n",
    "                #writer.add_scalar(f\"batch_rouge1/eval\", rouge_results['rouge1'], epoch*len(loader) + _ )\n",
    "                #writer.add_scalar(f\"batch_rouge2/eval\", rouge_results['rouge2'], epoch*len(loader) + _ )\n",
    "                #print(rouge_results)\n",
    "                \n",
    "\n",
    "    return {\"loss\": total_loss/len(loader) , \"rouge1\":rouge1_score/len(loader), \"rouge2\":rouge2_score/len(loader)} "
   ]
  },
  {
   "cell_type": "code",
   "execution_count": 31,
   "metadata": {},
   "outputs": [],
   "source": [
    "# Initialisation\n",
    "time = datetime.now().strftime(\"%Y-%m-%d_%Hh%M\")\n",
    "\n",
    "checkpoint_path = f\"../models_checkpoints/tp2/T5_small_tuned_{time}\"\n",
    "os.makedirs(checkpoint_path,exist_ok=True)\n",
    "\n",
    "log_dir = f\"./logs/tp2/T5_small_tuned_{time}\" \n",
    "os.makedirs(log_dir,exist_ok=True)\n",
    "\n",
    "writer = SummaryWriter(log_dir=log_dir)\n",
    "\n",
    "# Defining the optimizer that will be used to tune the weights of the network in the training session. \n",
    "optimizer = torch.optim.Adam(params =  t5_model.parameters(), lr=LEARNING_RATE)\n",
    "\n",
    "early_stopping_patience = 5\n",
    "reduce_lr_patience = 2\n",
    "reduce_lr_factor = 0.1\n",
    "\n",
    "scheduler = ReduceLROnPlateau(optimizer, mode='min',\n",
    "                                patience=reduce_lr_patience,\n",
    "                                factor=reduce_lr_factor)\n"
   ]
  },
  {
   "cell_type": "code",
   "execution_count": 33,
   "metadata": {},
   "outputs": [],
   "source": [
    "def main(tokenizer, model, device, train_loader, eval_loader, optimizer, writer, scheduler, checkpoint_path, NB_EPOCHS):\n",
    "        \n",
    "    best_loss = float('inf')\n",
    "    patience_counter = 0\n",
    "    current_lr = 0\n",
    "\n",
    "    eval_loss, train_loss = [], []\n",
    "    \n",
    "    for epoch in range(NB_EPOCHS):\n",
    "        outputs_train = train(tokenizer, model, device, train_loader, optimizer, epoch, writer)\n",
    "        outputs_eval = eval(tokenizer, model, device, eval_loader)\n",
    "        \n",
    "        train_loss.append(outputs_train[\"loss\"])\n",
    "        eval_loss.append(outputs_eval[\"loss\"])\n",
    "\n",
    "        writer.add_scalars(\"loss\",{\"train\":outputs_train[\"loss\"], \"eval\":outputs_eval[\"loss\"] } , epoch)\n",
    "        writer.add_scalars(\"rouge1\",{\"train\":outputs_train[\"rouge1\"], \"eval\":outputs_eval[\"rouge1\"] } , epoch)\n",
    "        writer.add_scalars(\"rouge2\",{\"train\":outputs_train[\"rouge2\"], \"eval\":outputs_eval[\"rouge2\"] } , epoch)\n",
    "\n",
    "\n",
    "        # Enregistrer le taux d'apprentissage actuel\n",
    "        for param_group in optimizer.param_groups:\n",
    "            current_lr = param_group['lr']\n",
    "            writer.add_scalar(\"lr\", current_lr, epoch)\n",
    "\n",
    "        # Réduit automatiquement le taux d'apprentissage si la perte de validation ne diminue pas\n",
    "        # sous les critères\n",
    "        scheduler.step(eval_loss[-1])\n",
    "\n",
    "        # Early Stopping\n",
    "        if eval_loss[-1] < best_loss:\n",
    "            best_loss = eval_loss[-1]\n",
    "            patience_counter = 0\n",
    "            # Sauvegarder le meilleur modèle\n",
    "            model.save_pretrained(checkpoint_path)\n",
    "            tokenizer.save_pretrained(checkpoint_path)\n",
    "            epoch_best = epoch+1\n",
    "            print(f'Find a better model at the epoch {epoch+1} - Train Loss: {train_loss[-1]:.4f}, eval Loss: {eval_loss[-1]:.4f}')\n",
    "        else:\n",
    "            patience_counter += 1\n",
    "            if patience_counter >= early_stopping_patience:\n",
    "                print(\"Early stopping triggered\")\n",
    "                print(\"current_lr : \", current_lr)\n",
    "                print(\"epoch_best : \", epoch_best)\n",
    "                break\n",
    "\n",
    "        writer.close()"
   ]
  },
  {
   "cell_type": "code",
   "execution_count": 34,
   "metadata": {},
   "outputs": [
    {
     "name": "stderr",
     "output_type": "stream",
     "text": [
      "Total iterations: 600: 600 it [04:39,  2.15 it/s] epoch/s]\n",
      "Total iterations: 50: 50 it [00:12,  3.98 it/s]\n",
      "Total epochs: 1: 100%|██████████| 1/1 [04:52<00:00, 292.45s/ epoch]"
     ]
    },
    {
     "name": "stdout",
     "output_type": "stream",
     "text": [
      "Find a better model at the epoch 1 - Train Loss: 2.4985, eval Loss: 2.1773\n"
     ]
    },
    {
     "name": "stderr",
     "output_type": "stream",
     "text": [
      "\n"
     ]
    }
   ],
   "source": [
    "main(tokenizer, t5_model, device, train_loader, eval_loader, optimizer, writer,scheduler,checkpoint_path, NB_EPOCHS)"
   ]
  },
  {
   "cell_type": "markdown",
   "metadata": {},
   "source": [
    "# Chargement du model, utilisation et evaluation sur des données tests"
   ]
  },
  {
   "cell_type": "markdown",
   "metadata": {},
   "source": [
    "## Question 9 : \n",
    "- Vérifier que vous pouvez charger votre modèle \"finetuné\" et évaluer ses performance sur le jeu de données test avec la métrique rouge. \n",
    "- Transférer votre modèle sur la plateforme \"Huggingface\" pour le rendre opensource. \n",
    " "
   ]
  },
  {
   "cell_type": "markdown",
   "metadata": {},
   "source": [
    "## Configuaration pour un restart après entrainement"
   ]
  },
  {
   "cell_type": "code",
   "execution_count": 25,
   "metadata": {},
   "outputs": [],
   "source": [
    "import numpy as np\n",
    "import pandas as pd \n",
    "from pandas import DataFrame\n",
    "\n",
    "import os\n",
    "import re\n",
    "import tqdm \n",
    "import multiprocessing\n",
    "from pathlib import Path\n",
    "\n",
    "from datetime import datetime \n",
    "import kagglehub\n",
    "\n",
    "import matplotlib.pyplot as plt\n",
    "\n",
    "from sklearn.model_selection import train_test_split\n",
    "\n",
    "import torch\n",
    "from torch.utils.data import Dataset, DataLoader\n",
    "from torch.utils.data import DataLoader\n",
    "from torch.nn.utils.rnn import pad_sequence\n",
    "\n",
    "\n",
    "from datasets import Dataset\n",
    "\n",
    "# Importing the T5 modules from huggingface/transformers\n",
    "from transformers import AutoTokenizer\n",
    "from transformers import T5ForConditionalGeneration, T5Tokenizer\n",
    "\n",
    "\n",
    "from torch import cuda\n",
    "\n",
    "# Load the ROUGE metric\n",
    "import evaluate\n",
    "\n",
    "\n",
    "from huggingface_hub import HfApi, HfFolder, whoami\n",
    "\n",
    "\n",
    "\n",
    "# link nootbooks associated : \n",
    "# https://www.kaggle.com/code/thejas2002/title-generation\n",
    "# https://www.kaggle.com/code/a3amat02/news-title-generation-using-t5\n",
    "\n",
    "# https://medium.com/nlplanet/a-full-guide-to-finetuning-t5-for-text2text-and-building-a-demo-with-streamlit-c72009631887\n",
    "# https://learnopencv.com/fine-tuning-t5/\n",
    "# https://github.com/Shivanandroy/T5-Finetuning-PyTorch\n"
   ]
  },
  {
   "cell_type": "code",
   "execution_count": 26,
   "metadata": {},
   "outputs": [],
   "source": [
    "\n",
    "device = 'cuda' if cuda.is_available() else 'cpu'\n",
    "\n",
    "SEED = 0  # random seed \n",
    "\n",
    "# Set random seeds and deterministic pytorch for reproducibility\n",
    "torch.manual_seed(SEED) # pytorch random seed\n",
    "np.random.seed(SEED) # numpy random seed\n",
    "torch.backends.cudnn.deterministic = True\n",
    "\n",
    "MAX_LEN_TEXT = 512\n",
    "MAX_LEN_TITLE = 45\n",
    "MIN_LEN_TITLE = 3\n",
    "\n",
    "MODEL_TYPE = \"t5\"\n",
    "MODEL_NAME = \"t5-small\"\n",
    "\n",
    "NUM_PROCS = os.cpu_count() #print(NUM_PROCS)\n",
    "\n",
    "TRAIN_BATCH_SIZE = 4\n",
    "VALID_BATCH_SIZE = 6\n",
    "\n",
    "NUM_BEAMS=4\n",
    "\n",
    "rouge = evaluate.load('rouge')\n"
   ]
  },
  {
   "cell_type": "code",
   "execution_count": 27,
   "metadata": {},
   "outputs": [
    {
     "name": "stdout",
     "output_type": "stream",
     "text": [
      "Dataset loaded successfully.\n"
     ]
    }
   ],
   "source": [
    "path_df = os.path.join(\"../data/tp2/titlegen\", \"train.csv\")\n",
    "\n",
    "encoding='utf-8'\n",
    "\n",
    "# Load training batch\n",
    "try:\n",
    "    df = pd.read_csv(path_df,encoding=encoding)\n",
    "    df.dropna(inplace=True)\n",
    "    print(\"Dataset loaded successfully.\")\n",
    "except Exception as e:\n",
    "    print(f\"Error loading Dataset: {e}\")\n",
    "\n",
    "#Avoir moins de données -> A commenter par la suite\n",
    "df = df.sample(int(df.shape[0]*0.2))\n",
    "\n",
    "train_df, test_df = train_test_split(df, test_size=0.2,random_state=0)\n",
    "eval_df, test_df = train_test_split(test_df, test_size=0.5,random_state=0)\n",
    "\n",
    "del train_df, eval_df\n",
    "\n",
    "def clean_text(text):\n",
    "   \n",
    "   # Remove any text before and including a hyphen followed by a space\n",
    "   text = re.sub(r'^.*?- ', '', text, flags=re.DOTALL) \n",
    "\n",
    "   # Remove URLs (e.g., \"Visit https://example.com\" -> \"Visit\")\n",
    "   text = re.sub(r'http*?://\\S+|www\\.\\S+', '', text)\n",
    "\n",
    "   # Remove HTML tags (e.g., \"<p>text</p>\" -> \"text\")\n",
    "   text = re.sub(r'<.*?>+', '', text)\n",
    "\n",
    "   #Remove extra space\n",
    "   text = ' '.join(text.split())\n",
    "\n",
    "   # Remove newline characters (e.g., \"text\\nmore text\" -> \"text more text\")\n",
    "   text = re.sub(r'\\n', '', text)\n",
    "\n",
    "   return text\n",
    "\n",
    "test_df[\"text\"] = \"Generate a title: \" + test_df[\"text\"].apply(clean_text)\n",
    "\n",
    "test_df = test_df[[\"text\",\"title\"]]\n",
    "\n",
    "#transforme a pandas df to a torch dataset object \n",
    "test_dataset = Dataset.from_pandas(test_df)\n",
    "\n"
   ]
  },
  {
   "cell_type": "code",
   "execution_count": 28,
   "metadata": {},
   "outputs": [],
   "source": [
    "\n",
    "best_weight_path = '../models_checkpoints/tp2/T5_small_tuned_2025-02-03_11h19'\n",
    "\n",
    "# Load the model and tokenizer\n",
    "my_t5_model = T5ForConditionalGeneration.from_pretrained(best_weight_path)\n",
    "tokenizer = AutoTokenizer.from_pretrained(best_weight_path,clean_up_tokenization_spaces=True,legacy=False)\n",
    "\n",
    "# Move the model to the desired device\n",
    "my_t5_model = my_t5_model.to(device)\n"
   ]
  },
  {
   "cell_type": "code",
   "execution_count": 29,
   "metadata": {},
   "outputs": [
    {
     "data": {
      "application/vnd.jupyter.widget-view+json": {
       "model_id": "6b60fe7ac28f45ceb100c71a6142dd79",
       "version_major": 2,
       "version_minor": 0
      },
      "text/plain": [
       "Map (num_proc=12):   0%|          | 0/300 [00:00<?, ? examples/s]"
      ]
     },
     "metadata": {},
     "output_type": "display_data"
    }
   ],
   "source": [
    "# Define a function for tokenization\n",
    "def tokenize_function(example,truncation=True):\n",
    "\n",
    "    source = tokenizer(text=example[\"text\"], truncation=truncation, max_length=MAX_LEN_TEXT, return_tensors='pt')\n",
    "    source_ids = source['input_ids'].squeeze()\n",
    "    source_mask = source['attention_mask'].squeeze()\n",
    "    \n",
    "   \n",
    "    target = tokenizer(text_target=example[\"title\"], truncation=truncation, max_length=MAX_LEN_TITLE, return_tensors='pt')\n",
    "    target_ids = target['input_ids'].squeeze()\n",
    "    target_mask = target['attention_mask'].squeeze()\n",
    "\n",
    "    return {\n",
    "        'input_ids': source_ids, \n",
    "        'attention_mask': source_mask,\n",
    "        'labels': target_ids, \n",
    "        'labels_mask': target_mask\n",
    "        }\n",
    "\n",
    "test_dataset = test_dataset.map(tokenize_function,num_proc=NUM_PROCS)"
   ]
  },
  {
   "cell_type": "code",
   "execution_count": 30,
   "metadata": {},
   "outputs": [],
   "source": [
    "# Define the custom collate function\n",
    "def collate_fn(batch):\n",
    "    \"\"\"\n",
    "    Custom collate function that add padding for each batch.\n",
    "    \"\"\"\n",
    "\n",
    "    # Pad the tokenized content\n",
    "    padded_text_ids = pad_sequence(\n",
    "        [torch.tensor(item['input_ids'], dtype=torch.long) for item in batch], \n",
    "        batch_first=True, \n",
    "        padding_value=tokenizer.pad_token_id)\n",
    "    \n",
    "    padded_text_mask = pad_sequence(\n",
    "        [torch.tensor(item['attention_mask'], dtype=torch.long) for item in batch], \n",
    "        batch_first=True, \n",
    "        padding_value=0)\n",
    "\n",
    "    padded_title_ids = pad_sequence(\n",
    "        [torch.tensor(item['labels'], dtype=torch.long) for item in batch], \n",
    "        batch_first=True, \n",
    "        padding_value=tokenizer.pad_token_id)     \n",
    "    \n",
    "    padded_title_mask = pad_sequence(\n",
    "        [torch.tensor(item['labels_mask'], \n",
    "                      dtype=torch.long) for item in batch], \n",
    "                      batch_first=True, \n",
    "                      padding_value=0)\n",
    "    \n",
    "\n",
    "    return {\n",
    "        'input_ids':padded_text_ids,\n",
    "        'attention_mask':padded_text_mask,\n",
    "        'labels':padded_title_ids,\n",
    "        'labels_mask':padded_title_mask\n",
    "    }\n",
    "\n",
    "test_params = {\n",
    "    'batch_size': VALID_BATCH_SIZE,\n",
    "    'shuffle': False,\n",
    "    'collate_fn':collate_fn,\n",
    "    'num_workers': NUM_PROCS\n",
    "    }\n",
    "\n",
    "test_loader = DataLoader(test_dataset, **test_params)"
   ]
  },
  {
   "cell_type": "markdown",
   "metadata": {},
   "source": [
    "## Réponses à la question 9 "
   ]
  },
  {
   "cell_type": "code",
   "execution_count": 22,
   "metadata": {},
   "outputs": [
    {
     "name": "stderr",
     "output_type": "stream",
     "text": [
      "total iter: 50: 50 iter [03:12,  3.85s/ iter]"
     ]
    },
    {
     "name": "stdout",
     "output_type": "stream",
     "text": [
      "0.07258716628239985\n",
      "0.03506990586196233\n"
     ]
    },
    {
     "name": "stderr",
     "output_type": "stream",
     "text": [
      "\n"
     ]
    }
   ],
   "source": [
    "my_t5_model.eval()\n",
    "\n",
    "rouge1_score, rouge2_score = 0, 0\n",
    "\n",
    "with torch.no_grad():\n",
    "    \n",
    "    for _, batch in tqdm.tqdm(enumerate(test_loader, 0),desc=f'total iter: {len(test_loader)}', unit=\" iter\"):\n",
    "        y_ids = batch[\"labels\"]\n",
    "        y_txt = tokenizer.batch_decode(y_ids, skip_special_tokens=True)\n",
    "\n",
    "        #print(y_txt)\n",
    "\n",
    "        ###ENCODER input\n",
    "        ids = batch[\"input_ids\"].to(device)\n",
    "        mask = batch[\"attention_mask\"].to(device)\n",
    "        #print(ids.size(),mask.size())\n",
    "        \n",
    "        generated_ids = my_t5_model.generate(\n",
    "              input_ids = ids,\n",
    "              attention_mask = mask, \n",
    "              max_length=MAX_LEN_TITLE, \n",
    "              num_beams=NUM_BEAMS,\n",
    "              repetition_penalty=2.5, \n",
    "              length_penalty=1.0, \n",
    "              early_stopping=True\n",
    "              )   \n",
    "        #print(generated_ids)\n",
    "\n",
    "        generated_txt = tokenizer.batch_decode(generated_ids, skip_special_tokens=True)\n",
    "\n",
    "        #print(generated_txt)\n",
    "\n",
    "        # Compute ROUGE scores here\n",
    "        rouge_results = rouge.compute(predictions=generated_txt, references=y_txt)\n",
    "        rouge1_score += rouge_results['rouge1']\n",
    "        rouge2_score += rouge_results['rouge2']\n",
    "        \n",
    "\n",
    "print(rouge1_score/(len(test_loader)*VALID_BATCH_SIZE))\n",
    "print(rouge2_score/(len(test_loader)*VALID_BATCH_SIZE))"
   ]
  },
  {
   "cell_type": "code",
   "execution_count": 31,
   "metadata": {},
   "outputs": [
    {
     "name": "stdout",
     "output_type": "stream",
     "text": [
      "Generate a title: A majority of Americans disagree with President Donald Trump’s assertion that football players should be fired for kneeling during the national anthem, even though most say they would personally stand during the song, according to an exclusive Reuters/Ipsos opinion poll released on Tuesday. The Sept. 25-26 poll found that 57 percent of adults do not think the National Football League should fire players who kneel. This included 61 percent of NFL fans who watch at least a few games per season. The results were split along party lines, however, as 82 percent of Democrats and 29 percent of Republicans disagreed with the president’s comments about firing football players. For poll results, see: tmsnrt.rs/2y6pxBk Trump waded into the issue last week at a political rally when he bemoaned what he saw as a decline in the sport. Among other things, Trump criticized players who want to draw attention to what they believe is social and racial injustice by refusing to stand during the anthem. “Wouldn’t you love to see one of these NFL owners, when somebody disrespects our flag, to say ‘get that son of a bitch off the field right now’,” Trump said at the rally. “He’s fired!” Trump, who once owned a pro football team in a now-defunct rival league, added that the NFL is “ruining the game” with a fixation on player safety. The president’s comments sparked a swift and widespread rebuke from the NFL last weekend as many players, coaches and owners kneeled, locked arms or stayed off the field during pregame ceremonies. The Reuters/Ipsos poll explored the complicated feelings that many Americans have about how to express their nationality. Eighty-five percent of adults said, for example, that they almost always “stand in silence” when the national anthem is played at an event they are attending. Seventy-four percent said they almost always put their hand over their heart. Yet, when it comes to professional athletes, there is less agreement about what is appropriate. While 58 percent of adults said that “professional athletes should be required to stand during the national anthem at sporting events,” there is rising support for those athletes who do not. In the latest poll, 40 percent of Americans said that they support the stance that some pro football players have made to not stand during the anthem. That is up from 28 percent who answered the same way in a similar Reuters/Ipsos poll last year. In addition, 53 percent of Americans do not think it is appropriate for the president to comment on “how the NFL and its players conduct themselves during the national anthem.” Former San Francisco 49ers quarterback Colin Kaepernick and a small number of other NFL players started kneeling during the national anthem last year to protest a series of high-profile police shootings that involved African-Americans. The issue had largely faded at the start of the 2017 season, in part because Kaepernick was no longer playing for an NFL team. Trump’s comments, which were made in front of a conservative-leaning crowd in Alabama, reinvigorated the debate and made pregame NFL ceremonies must-see TV. The Reuters/Ipsos poll was conducted online in English throughout the United States. It gathered responses from 1,622 people, including 628 Democrats, 583 Republicans and 919 people who watched a football game at least a few times during the season. The poll has a credibility interval, a measure of accuracy, of 5 percentage points. \n",
      "\n",
      "\n",
      "Generate title:  Reuters/Ipsos poll says majority of Americans disagree with Trump's comments \n",
      "\n",
      "\n",
      "Expected title:  A majority of adults disagree with Trump on firing athletes who kneel during anthem: Reuters/Ipsos poll\n"
     ]
    }
   ],
   "source": [
    "text, title = test_df.sample()[[\"text\",\"title\"]].values[0]\n",
    "\n",
    "print(text,'\\n\\n')\n",
    "\n",
    "inputs = [text]\n",
    "\n",
    "inputs = tokenizer(inputs, max_length=515, truncation=True, return_tensors=\"pt\")\n",
    "\n",
    "with torch.no_grad():\n",
    "    my_t5_model.eval()\n",
    "    output = my_t5_model.generate(**inputs.to(device), num_beams=NUM_BEAMS, do_sample=True, min_length=MIN_LEN_TITLE, max_length=MAX_LEN_TITLE)\n",
    "    decoded_output = tokenizer.batch_decode(output, skip_special_tokens=True)[0]\n",
    "\n",
    "\n",
    "    print(\"Generate title: \" , decoded_output,\"\\n\\n\")\n",
    "    print(\"Expected title: \" , title)\n"
   ]
  },
  {
   "cell_type": "markdown",
   "metadata": {},
   "source": [
    "### Upload le model sur Huggingface et le récupérer\n",
    "* https://huggingface.co/docs/huggingface_hub/en/quick-start\n",
    "* https://huggingface.co/docs/timm/hf_hub"
   ]
  },
  {
   "cell_type": "code",
   "execution_count": null,
   "metadata": {},
   "outputs": [
    {
     "name": "stdout",
     "output_type": "stream",
     "text": [
      "Token récupéré avec succès.\n",
      "{'type': 'user', 'id': '6602ca685b27612b271e286f', 'name': 'Ivanhoe9', 'fullname': 'Botcazou', 'email': 'ibotca52@gmail.com', 'emailVerified': True, 'canPay': False, 'periodEnd': None, 'isPro': False, 'avatarUrl': 'https://cdn-avatars.huggingface.co/v1/production/uploads/noauth/rEeDTQYYrwVAUUkdjZAJ1.png', 'orgs': [], 'auth': {'type': 'access_token', 'accessToken': {'displayName': 'labo_huggingface_write_token', 'role': 'write', 'createdAt': '2025-02-03T10:10:13.010Z'}}}\n"
     ]
    }
   ],
   "source": [
    "# Récupérer le token depuis les variables d’environnement\n",
    "hf_token = os.getenv(\"LABO_HF_WRITE_TOKEN\")\n",
    "\n",
    "# Vérifier si le token est bien récupéré\n",
    "if hf_token:\n",
    "    print(\"Token récupéré avec succès.\")\n",
    "    HfFolder.save_token(hf_token)\n",
    "    print(whoami(token=hf_token))\n",
    "else:\n",
    "    print(\"Erreur : le token n’a pas été trouvé.\")\n",
    "\n",
    "api = HfApi()"
   ]
  },
  {
   "cell_type": "code",
   "execution_count": 36,
   "metadata": {},
   "outputs": [
    {
     "data": {
      "application/vnd.jupyter.widget-view+json": {
       "model_id": "ef3a174b2ad14c29978ef2613993dd31",
       "version_major": 2,
       "version_minor": 0
      },
      "text/plain": [
       "model.safetensors:   0%|          | 0.00/242M [00:00<?, ?B/s]"
      ]
     },
     "metadata": {},
     "output_type": "display_data"
    },
    {
     "data": {
      "application/vnd.jupyter.widget-view+json": {
       "model_id": "c72cb27fc98942948498a1f9362c69f0",
       "version_major": 2,
       "version_minor": 0
      },
      "text/plain": [
       "Upload 2 LFS files:   0%|          | 0/2 [00:00<?, ?it/s]"
      ]
     },
     "metadata": {},
     "output_type": "display_data"
    },
    {
     "data": {
      "application/vnd.jupyter.widget-view+json": {
       "model_id": "dbedf72a318e48e1971a457aa49c14a9",
       "version_major": 2,
       "version_minor": 0
      },
      "text/plain": [
       "spiece.model:   0%|          | 0.00/792k [00:00<?, ?B/s]"
      ]
     },
     "metadata": {},
     "output_type": "display_data"
    },
    {
     "data": {
      "text/plain": [
       "CommitInfo(commit_url='https://huggingface.co/Ivanhoe9/finetune_T5_small_title_generation_NLP_cours/commit/55918657d2326dcfa2702d78ddc96aa1ee6e86b1', commit_message='Upload folder using huggingface_hub', commit_description='', oid='55918657d2326dcfa2702d78ddc96aa1ee6e86b1', pr_url=None, repo_url=RepoUrl('https://huggingface.co/Ivanhoe9/finetune_T5_small_title_generation_NLP_cours', endpoint='https://huggingface.co', repo_type='model', repo_id='Ivanhoe9/finetune_T5_small_title_generation_NLP_cours'), pr_revision=None, pr_num=None)"
      ]
     },
     "execution_count": 36,
     "metadata": {},
     "output_type": "execute_result"
    }
   ],
   "source": [
    "api.upload_folder(\n",
    "    folder_path=best_weight_path,\n",
    "    repo_id=\"Ivanhoe9/finetune_T5_small_title_generation_NLP_cours\",\n",
    "    repo_type=\"model\",\n",
    ")"
   ]
  },
  {
   "cell_type": "markdown",
   "metadata": {},
   "source": [
    "### load le model sur Huggingface et le récupérer\n",
    "* https://huggingface.co/docs/timm/hf_hub"
   ]
  },
  {
   "cell_type": "code",
   "execution_count": null,
   "metadata": {},
   "outputs": [
    {
     "name": "stdout",
     "output_type": "stream",
     "text": [
      "This article is about the latest technological innovations in the field of AI\n"
     ]
    }
   ],
   "source": [
    "# Load the model and tokenizer\n",
    "my_t5_model_hf = T5ForConditionalGeneration.from_pretrained(\"Ivanhoe9/finetune_T5_small_title_generation_NLP_cours\")\n",
    "tokenizer_hf = AutoTokenizer.from_pretrained(\"Ivanhoe9/finetune_T5_small_title_generation_NLP_cours\",clean_up_tokenization_spaces=True,legacy=False)\n",
    "\n",
    "# Move the model to the desired device\n",
    "my_t5_model_hf.to(device)"
   ]
  },
  {
   "cell_type": "code",
   "execution_count": 42,
   "metadata": {},
   "outputs": [
    {
     "name": "stdout",
     "output_type": "stream",
     "text": [
      "Generate a title: The deal propping up the Irish government will be dead if opposition party Fianna Fail submits a motion of no confidence in the deputy prime minister before a 1100 deadline, Employment minister Regina Doherty said on Friday. It had been unclear whether the ruling party considered submitting the motion sufficient to violate the terms of the three-year deal, which Prime Minister Leo Varadkar s minority government depends on to rule, or whether it would consider the deal broken only when a vote on the motion was taken. \n",
      "\n",
      "\n",
      "Generate title:  Irish government deal dead if opposition party submits no confidence motion \n",
      "\n",
      "\n",
      "Expected title:  Irish PM's party says government deal dead if opposition submits confidence motion\n"
     ]
    }
   ],
   "source": [
    "text, title = test_df.sample()[[\"text\",\"title\"]].values[0]\n",
    "\n",
    "print(text,'\\n\\n')\n",
    "\n",
    "inputs = [text]\n",
    "\n",
    "inputs = tokenizer_hf(inputs, max_length=515, truncation=True, return_tensors=\"pt\")\n",
    "\n",
    "with torch.no_grad():\n",
    "    my_t5_model_hf.eval()\n",
    "    output = my_t5_model_hf.generate(**inputs.to(device), num_beams=NUM_BEAMS, do_sample=True, min_length=MIN_LEN_TITLE, max_length=MAX_LEN_TITLE)\n",
    "    decoded_output = tokenizer_hf.batch_decode(output, skip_special_tokens=True)[0]\n",
    "\n",
    "\n",
    "    print(\"Generate title: \" , decoded_output,\"\\n\\n\")\n",
    "    print(\"Expected title: \" , title)"
   ]
  }
 ],
 "metadata": {
  "kernelspec": {
   "display_name": ".venv",
   "language": "python",
   "name": "python3"
  },
  "language_info": {
   "codemirror_mode": {
    "name": "ipython",
    "version": 3
   },
   "file_extension": ".py",
   "mimetype": "text/x-python",
   "name": "python",
   "nbconvert_exporter": "python",
   "pygments_lexer": "ipython3",
   "version": "3.12.3"
  }
 },
 "nbformat": 4,
 "nbformat_minor": 2
}
