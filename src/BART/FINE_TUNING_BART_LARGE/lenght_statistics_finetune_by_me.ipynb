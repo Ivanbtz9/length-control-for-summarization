{
 "cells": [
  {
   "cell_type": "markdown",
   "metadata": {},
   "source": [
    "# Load module\n"
   ]
  },
  {
   "cell_type": "code",
   "execution_count": null,
   "metadata": {},
   "outputs": [],
   "source": [
    "import sys,os\n",
    "import numpy as np\n",
    "import seaborn as sns\n",
    "import matplotlib.pyplot as plt\n",
    "import pandas as pd\n",
    "import torch\n",
    "import scipy\n",
    "import re\n",
    "\n",
    "from datasets import load_dataset\n",
    "from datasets import load_from_disk\n",
    "\n",
    "from rouge_score import rouge_scorer\n",
    "\n",
    "from transformers import AutoTokenizer"
   ]
  },
  {
   "cell_type": "code",
   "execution_count": 2,
   "metadata": {},
   "outputs": [
    {
     "name": "stdout",
     "output_type": "stream",
     "text": [
      "NUM_PROCS =  12\n"
     ]
    }
   ],
   "source": [
    "\n",
    "NUM_PROCS = os.cpu_count() \n",
    "\n",
    "print(\"NUM_PROCS = \" ,NUM_PROCS)\n",
    "\n",
    "device = 'cuda' if torch.cuda.is_available() else 'cpu'\n"
   ]
  },
  {
   "cell_type": "markdown",
   "metadata": {},
   "source": [
    "# Load the dataset and analyse some sample "
   ]
  },
  {
   "cell_type": "code",
   "execution_count": 77,
   "metadata": {},
   "outputs": [
    {
     "data": {
      "text/html": [
       "<div>\n",
       "<style scoped>\n",
       "    .dataframe tbody tr th:only-of-type {\n",
       "        vertical-align: middle;\n",
       "    }\n",
       "\n",
       "    .dataframe tbody tr th {\n",
       "        vertical-align: top;\n",
       "    }\n",
       "\n",
       "    .dataframe thead th {\n",
       "        text-align: right;\n",
       "    }\n",
       "</style>\n",
       "<table border=\"1\" class=\"dataframe\">\n",
       "  <thead>\n",
       "    <tr style=\"text-align: right;\">\n",
       "      <th></th>\n",
       "      <th>id</th>\n",
       "      <th>input_len</th>\n",
       "      <th>target_len</th>\n",
       "      <th>generate_len</th>\n",
       "      <th>references_txt</th>\n",
       "      <th>generated_txt</th>\n",
       "    </tr>\n",
       "  </thead>\n",
       "  <tbody>\n",
       "    <tr>\n",
       "      <th>0</th>\n",
       "      <td>f001ec5c4704938247d27a44948eebb37ae98d01</td>\n",
       "      <td>694</td>\n",
       "      <td>41</td>\n",
       "      <td>55</td>\n",
       "      <td>Membership gives the ICC jurisdiction over all...</td>\n",
       "      <td>The Palestinian Authority becomes the 123rd me...</td>\n",
       "    </tr>\n",
       "    <tr>\n",
       "      <th>1</th>\n",
       "      <td>230c522854991d053fe98a718b1defa077a8efef</td>\n",
       "      <td>508</td>\n",
       "      <td>58</td>\n",
       "      <td>78</td>\n",
       "      <td>Theia, a bully breed mix, was apparently hit b...</td>\n",
       "      <td>The dog was hit by a car, apparently whacked o...</td>\n",
       "    </tr>\n",
       "    <tr>\n",
       "      <th>2</th>\n",
       "      <td>4495ba8f3a340d97a9df1476f8a35502bcce1f69</td>\n",
       "      <td>882</td>\n",
       "      <td>46</td>\n",
       "      <td>49</td>\n",
       "      <td>Mohammad Javad Zarif has spent more time with ...</td>\n",
       "      <td>Mohammad Javad Zarif is the Iranian foreign mi...</td>\n",
       "    </tr>\n",
       "    <tr>\n",
       "      <th>3</th>\n",
       "      <td>a38e72fed88684ec8d60dd5856282e999dc8c0ca</td>\n",
       "      <td>235</td>\n",
       "      <td>49</td>\n",
       "      <td>59</td>\n",
       "      <td>17 Americans were exposed to the Ebola virus w...</td>\n",
       "      <td>One of the five had a heart-related issue on S...</td>\n",
       "    </tr>\n",
       "    <tr>\n",
       "      <th>4</th>\n",
       "      <td>c27cf1b136cc270023de959e7ab24638021bc43f</td>\n",
       "      <td>436</td>\n",
       "      <td>55</td>\n",
       "      <td>59</td>\n",
       "      <td>Student is no longer on Duke University campus...</td>\n",
       "      <td>A Duke student has admitted to hanging a noose...</td>\n",
       "    </tr>\n",
       "    <tr>\n",
       "      <th>...</th>\n",
       "      <td>...</td>\n",
       "      <td>...</td>\n",
       "      <td>...</td>\n",
       "      <td>...</td>\n",
       "      <td>...</td>\n",
       "      <td>...</td>\n",
       "    </tr>\n",
       "    <tr>\n",
       "      <th>11485</th>\n",
       "      <td>0ac776a4dc09ca97c136f4314fed4defb48a361a</td>\n",
       "      <td>808</td>\n",
       "      <td>52</td>\n",
       "      <td>78</td>\n",
       "      <td>Operators are charging up to 20p a minute - ev...</td>\n",
       "      <td>Mobile phone companies charge customers up to ...</td>\n",
       "    </tr>\n",
       "    <tr>\n",
       "      <th>11486</th>\n",
       "      <td>fe89a6a2e28d173e5ad4c6d814c15b95aa969e3f</td>\n",
       "      <td>1857</td>\n",
       "      <td>148</td>\n",
       "      <td>167</td>\n",
       "      <td>Bali Nine ringleaders will face the firing squ...</td>\n",
       "      <td>Bali Nine ringleaders Andrew Chan and Myruan S...</td>\n",
       "    </tr>\n",
       "    <tr>\n",
       "      <th>11487</th>\n",
       "      <td>ded2f535cd6ab95d11b5f4ea29bbf2b2d3c55c50</td>\n",
       "      <td>849</td>\n",
       "      <td>89</td>\n",
       "      <td>152</td>\n",
       "      <td>Hardy was convicted of domestic abuse against ...</td>\n",
       "      <td>Greg Hardy was seen trying to drive his Bentle...</td>\n",
       "    </tr>\n",
       "    <tr>\n",
       "      <th>11488</th>\n",
       "      <td>30ec5f280eee772a73d181bfc8514defd8026434</td>\n",
       "      <td>1122</td>\n",
       "      <td>41</td>\n",
       "      <td>97</td>\n",
       "      <td>Apple sold more than 61 million iPhones in the...</td>\n",
       "      <td>Apple sold more than 61 million iPhones in the...</td>\n",
       "    </tr>\n",
       "    <tr>\n",
       "      <th>11489</th>\n",
       "      <td>b4a1738c4a0acdf3d189264a0927005aa5b856d6</td>\n",
       "      <td>1757</td>\n",
       "      <td>129</td>\n",
       "      <td>144</td>\n",
       "      <td>Angus Hawley's brother said his late sibling '...</td>\n",
       "      <td>Angus Hawley's brother David says he doesn't '...</td>\n",
       "    </tr>\n",
       "  </tbody>\n",
       "</table>\n",
       "<p>11490 rows × 6 columns</p>\n",
       "</div>"
      ],
      "text/plain": [
       "                                             id  input_len  target_len  \\\n",
       "0      f001ec5c4704938247d27a44948eebb37ae98d01        694          41   \n",
       "1      230c522854991d053fe98a718b1defa077a8efef        508          58   \n",
       "2      4495ba8f3a340d97a9df1476f8a35502bcce1f69        882          46   \n",
       "3      a38e72fed88684ec8d60dd5856282e999dc8c0ca        235          49   \n",
       "4      c27cf1b136cc270023de959e7ab24638021bc43f        436          55   \n",
       "...                                         ...        ...         ...   \n",
       "11485  0ac776a4dc09ca97c136f4314fed4defb48a361a        808          52   \n",
       "11486  fe89a6a2e28d173e5ad4c6d814c15b95aa969e3f       1857         148   \n",
       "11487  ded2f535cd6ab95d11b5f4ea29bbf2b2d3c55c50        849          89   \n",
       "11488  30ec5f280eee772a73d181bfc8514defd8026434       1122          41   \n",
       "11489  b4a1738c4a0acdf3d189264a0927005aa5b856d6       1757         129   \n",
       "\n",
       "       generate_len                                     references_txt  \\\n",
       "0                55  Membership gives the ICC jurisdiction over all...   \n",
       "1                78  Theia, a bully breed mix, was apparently hit b...   \n",
       "2                49  Mohammad Javad Zarif has spent more time with ...   \n",
       "3                59  17 Americans were exposed to the Ebola virus w...   \n",
       "4                59  Student is no longer on Duke University campus...   \n",
       "...             ...                                                ...   \n",
       "11485            78  Operators are charging up to 20p a minute - ev...   \n",
       "11486           167  Bali Nine ringleaders will face the firing squ...   \n",
       "11487           152  Hardy was convicted of domestic abuse against ...   \n",
       "11488            97  Apple sold more than 61 million iPhones in the...   \n",
       "11489           144  Angus Hawley's brother said his late sibling '...   \n",
       "\n",
       "                                           generated_txt  \n",
       "0      The Palestinian Authority becomes the 123rd me...  \n",
       "1      The dog was hit by a car, apparently whacked o...  \n",
       "2      Mohammad Javad Zarif is the Iranian foreign mi...  \n",
       "3      One of the five had a heart-related issue on S...  \n",
       "4      A Duke student has admitted to hanging a noose...  \n",
       "...                                                  ...  \n",
       "11485  Mobile phone companies charge customers up to ...  \n",
       "11486  Bali Nine ringleaders Andrew Chan and Myruan S...  \n",
       "11487  Greg Hardy was seen trying to drive his Bentle...  \n",
       "11488  Apple sold more than 61 million iPhones in the...  \n",
       "11489  Angus Hawley's brother David says he doesn't '...  \n",
       "\n",
       "[11490 rows x 6 columns]"
      ]
     },
     "execution_count": 77,
     "metadata": {},
     "output_type": "execute_result"
    }
   ],
   "source": [
    "path_data_result = os.path.join(os.getcwd(),\"evaluations/results_evaluation_6497751_43_11/len_and_txt.csv\")\n",
    "\n",
    "data_len = pd.read_csv(path_data_result)\n",
    "\n",
    "data_len.target_len = data_len.target_len.apply(lambda txt : re.findall(r'\\d+', txt)[0]).astype(int)\n",
    "data_len.input_len = data_len.input_len.apply(lambda txt : re.findall(r'\\d+', txt)[0]).astype(int)\n",
    "\n",
    "data_len"
   ]
  },
  {
   "cell_type": "code",
   "execution_count": 84,
   "metadata": {},
   "outputs": [
    {
     "data": {
      "text/html": [
       "<div>\n",
       "<style scoped>\n",
       "    .dataframe tbody tr th:only-of-type {\n",
       "        vertical-align: middle;\n",
       "    }\n",
       "\n",
       "    .dataframe tbody tr th {\n",
       "        vertical-align: top;\n",
       "    }\n",
       "\n",
       "    .dataframe thead th {\n",
       "        text-align: right;\n",
       "    }\n",
       "</style>\n",
       "<table border=\"1\" class=\"dataframe\">\n",
       "  <thead>\n",
       "    <tr style=\"text-align: right;\">\n",
       "      <th></th>\n",
       "      <th>input_len</th>\n",
       "      <th>target_len</th>\n",
       "      <th>generate_len</th>\n",
       "      <th>compression_ratio</th>\n",
       "      <th>compression_ratio_generate</th>\n",
       "      <th>ratio_resume_article</th>\n",
       "      <th>ratio_generate_resume_article</th>\n",
       "    </tr>\n",
       "  </thead>\n",
       "  <tbody>\n",
       "    <tr>\n",
       "      <th>count</th>\n",
       "      <td>11490.000000</td>\n",
       "      <td>11490.000000</td>\n",
       "      <td>11490.000000</td>\n",
       "      <td>11490.000000</td>\n",
       "      <td>11490.000000</td>\n",
       "      <td>11490.000000</td>\n",
       "      <td>11490.000000</td>\n",
       "    </tr>\n",
       "    <tr>\n",
       "      <th>mean</th>\n",
       "      <td>858.563969</td>\n",
       "      <td>72.049869</td>\n",
       "      <td>108.956571</td>\n",
       "      <td>89.523156</td>\n",
       "      <td>84.448671</td>\n",
       "      <td>10.476844</td>\n",
       "      <td>15.551329</td>\n",
       "    </tr>\n",
       "    <tr>\n",
       "      <th>std</th>\n",
       "      <td>440.230117</td>\n",
       "      <td>28.992050</td>\n",
       "      <td>29.390737</td>\n",
       "      <td>9.544727</td>\n",
       "      <td>7.434774</td>\n",
       "      <td>9.544727</td>\n",
       "      <td>7.434774</td>\n",
       "    </tr>\n",
       "    <tr>\n",
       "      <th>min</th>\n",
       "      <td>66.000000</td>\n",
       "      <td>12.000000</td>\n",
       "      <td>31.000000</td>\n",
       "      <td>-647.872340</td>\n",
       "      <td>15.555556</td>\n",
       "      <td>1.096163</td>\n",
       "      <td>1.767352</td>\n",
       "    </tr>\n",
       "    <tr>\n",
       "      <th>25%</th>\n",
       "      <td>524.000000</td>\n",
       "      <td>54.000000</td>\n",
       "      <td>87.000000</td>\n",
       "      <td>86.927480</td>\n",
       "      <td>80.741963</td>\n",
       "      <td>6.263982</td>\n",
       "      <td>10.304673</td>\n",
       "    </tr>\n",
       "    <tr>\n",
       "      <th>50%</th>\n",
       "      <td>772.000000</td>\n",
       "      <td>67.000000</td>\n",
       "      <td>106.000000</td>\n",
       "      <td>90.946716</td>\n",
       "      <td>85.734266</td>\n",
       "      <td>9.053284</td>\n",
       "      <td>14.265734</td>\n",
       "    </tr>\n",
       "    <tr>\n",
       "      <th>75%</th>\n",
       "      <td>1095.000000</td>\n",
       "      <td>83.000000</td>\n",
       "      <td>129.000000</td>\n",
       "      <td>93.736018</td>\n",
       "      <td>89.695327</td>\n",
       "      <td>13.072520</td>\n",
       "      <td>19.258037</td>\n",
       "    </tr>\n",
       "    <tr>\n",
       "      <th>max</th>\n",
       "      <td>3112.000000</td>\n",
       "      <td>847.000000</td>\n",
       "      <td>167.000000</td>\n",
       "      <td>98.903837</td>\n",
       "      <td>98.232648</td>\n",
       "      <td>747.872340</td>\n",
       "      <td>84.444444</td>\n",
       "    </tr>\n",
       "  </tbody>\n",
       "</table>\n",
       "</div>"
      ],
      "text/plain": [
       "          input_len    target_len  generate_len  compression_ratio  \\\n",
       "count  11490.000000  11490.000000  11490.000000       11490.000000   \n",
       "mean     858.563969     72.049869    108.956571          89.523156   \n",
       "std      440.230117     28.992050     29.390737           9.544727   \n",
       "min       66.000000     12.000000     31.000000        -647.872340   \n",
       "25%      524.000000     54.000000     87.000000          86.927480   \n",
       "50%      772.000000     67.000000    106.000000          90.946716   \n",
       "75%     1095.000000     83.000000    129.000000          93.736018   \n",
       "max     3112.000000    847.000000    167.000000          98.903837   \n",
       "\n",
       "       compression_ratio_generate  ratio_resume_article  \\\n",
       "count                11490.000000          11490.000000   \n",
       "mean                    84.448671             10.476844   \n",
       "std                      7.434774              9.544727   \n",
       "min                     15.555556              1.096163   \n",
       "25%                     80.741963              6.263982   \n",
       "50%                     85.734266              9.053284   \n",
       "75%                     89.695327             13.072520   \n",
       "max                     98.232648            747.872340   \n",
       "\n",
       "       ratio_generate_resume_article  \n",
       "count                   11490.000000  \n",
       "mean                       15.551329  \n",
       "std                         7.434774  \n",
       "min                         1.767352  \n",
       "25%                        10.304673  \n",
       "50%                        14.265734  \n",
       "75%                        19.258037  \n",
       "max                        84.444444  "
      ]
     },
     "execution_count": 84,
     "metadata": {},
     "output_type": "execute_result"
    }
   ],
   "source": [
    "data_len[\"compression_ratio\"] = (1-data_len.target_len / data_len.input_len)*100\n",
    "data_len[\"compression_ratio_generate\"] = (1-data_len.generate_len / data_len.input_len)*100\n",
    "data_len[\"ratio_resume_article\"] = (data_len.target_len / data_len.input_len)*100\n",
    "data_len[\"ratio_generate_resume_article\"] = (data_len.generate_len / data_len.input_len)*100\n",
    "data_len.describe()"
   ]
  },
  {
   "cell_type": "code",
   "execution_count": 83,
   "metadata": {},
   "outputs": [
    {
     "data": {
      "text/html": [
       "<div>\n",
       "<style scoped>\n",
       "    .dataframe tbody tr th:only-of-type {\n",
       "        vertical-align: middle;\n",
       "    }\n",
       "\n",
       "    .dataframe tbody tr th {\n",
       "        vertical-align: top;\n",
       "    }\n",
       "\n",
       "    .dataframe thead th {\n",
       "        text-align: right;\n",
       "    }\n",
       "</style>\n",
       "<table border=\"1\" class=\"dataframe\">\n",
       "  <thead>\n",
       "    <tr style=\"text-align: right;\">\n",
       "      <th></th>\n",
       "      <th>id</th>\n",
       "      <th>input_len</th>\n",
       "      <th>target_len</th>\n",
       "      <th>generate_len</th>\n",
       "      <th>references_txt</th>\n",
       "      <th>generated_txt</th>\n",
       "      <th>compression_ratio</th>\n",
       "      <th>compression_ratio_generate</th>\n",
       "    </tr>\n",
       "  </thead>\n",
       "  <tbody>\n",
       "    <tr>\n",
       "      <th>896</th>\n",
       "      <td>f759af149aaff26261dc1416087c8ef623a85632</td>\n",
       "      <td>733</td>\n",
       "      <td>26</td>\n",
       "      <td>72</td>\n",
       "      <td>9 indicted on organized crime charges related ...</td>\n",
       "      <td>65 cases of 20-year-old Pappy Van Winkle were ...</td>\n",
       "      <td>96.452933</td>\n",
       "      <td>90.177353</td>\n",
       "    </tr>\n",
       "  </tbody>\n",
       "</table>\n",
       "</div>"
      ],
      "text/plain": [
       "                                           id  input_len  target_len  \\\n",
       "896  f759af149aaff26261dc1416087c8ef623a85632        733          26   \n",
       "\n",
       "     generate_len                                     references_txt  \\\n",
       "896            72  9 indicted on organized crime charges related ...   \n",
       "\n",
       "                                         generated_txt  compression_ratio  \\\n",
       "896  65 cases of 20-year-old Pappy Van Winkle were ...          96.452933   \n",
       "\n",
       "     compression_ratio_generate  \n",
       "896                   90.177353  "
      ]
     },
     "execution_count": 83,
     "metadata": {},
     "output_type": "execute_result"
    }
   ],
   "source": [
    "data_len.sample()"
   ]
  },
  {
   "cell_type": "markdown",
   "metadata": {},
   "source": [
    "# Know the length distribution of articles an highlights"
   ]
  },
  {
   "cell_type": "markdown",
   "metadata": {},
   "source": [
    "## target len and generate len "
   ]
  },
  {
   "cell_type": "code",
   "execution_count": 79,
   "metadata": {},
   "outputs": [
    {
     "data": {
      "image/png": "[encoded data removed]",
      "text/plain": [
       "<Figure size 1000x600 with 1 Axes>"
      ]
     },
     "metadata": {},
     "output_type": "display_data"
    }
   ],
   "source": [
    "\n",
    "# Create the Seaborn histogram\n",
    "plt.figure(figsize=(10, 6))\n",
    "sns.histplot(data=data_len, x=\"target_len\", bins=100, kde=True, label='Number of tokens expected',stat=\"density\")\n",
    "sns.histplot(data=data_len, x=\"generate_len\", bins=20, kde=True, label='Number of tokens generate',stat=\"density\")\n",
    "# Add title, labels, and legend\n",
    "plt.title('Histogram of Token Count between target and generation')\n",
    "plt.xlabel('Number of Tokens')\n",
    "plt.ylabel('Frequency')\n",
    "plt.legend()\n",
    "\n",
    "# Display the plot\n",
    "plt.show()\n"
   ]
  },
  {
   "cell_type": "markdown",
   "metadata": {},
   "source": [
    "## Compression ratio distribution"
   ]
  },
  {
   "cell_type": "code",
   "execution_count": 86,
   "metadata": {},
   "outputs": [
    {
     "data": {
      "text/html": [
       "<div>\n",
       "<style scoped>\n",
       "    .dataframe tbody tr th:only-of-type {\n",
       "        vertical-align: middle;\n",
       "    }\n",
       "\n",
       "    .dataframe tbody tr th {\n",
       "        vertical-align: top;\n",
       "    }\n",
       "\n",
       "    .dataframe thead th {\n",
       "        text-align: right;\n",
       "    }\n",
       "</style>\n",
       "<table border=\"1\" class=\"dataframe\">\n",
       "  <thead>\n",
       "    <tr style=\"text-align: right;\">\n",
       "      <th></th>\n",
       "      <th>input_len</th>\n",
       "      <th>target_len</th>\n",
       "      <th>generate_len</th>\n",
       "      <th>compression_ratio</th>\n",
       "      <th>compression_ratio_generate</th>\n",
       "      <th>ratio_resume_article</th>\n",
       "      <th>ratio_generate_resume_article</th>\n",
       "    </tr>\n",
       "  </thead>\n",
       "  <tbody>\n",
       "    <tr>\n",
       "      <th>count</th>\n",
       "      <td>11490.000000</td>\n",
       "      <td>11490.000000</td>\n",
       "      <td>11490.000000</td>\n",
       "      <td>11490.000000</td>\n",
       "      <td>11490.000000</td>\n",
       "      <td>11490.000000</td>\n",
       "      <td>11490.000000</td>\n",
       "    </tr>\n",
       "    <tr>\n",
       "      <th>mean</th>\n",
       "      <td>858.563969</td>\n",
       "      <td>72.049869</td>\n",
       "      <td>108.956571</td>\n",
       "      <td>89.523156</td>\n",
       "      <td>84.448671</td>\n",
       "      <td>10.476844</td>\n",
       "      <td>15.551329</td>\n",
       "    </tr>\n",
       "    <tr>\n",
       "      <th>std</th>\n",
       "      <td>440.230117</td>\n",
       "      <td>28.992050</td>\n",
       "      <td>29.390737</td>\n",
       "      <td>9.544727</td>\n",
       "      <td>7.434774</td>\n",
       "      <td>9.544727</td>\n",
       "      <td>7.434774</td>\n",
       "    </tr>\n",
       "    <tr>\n",
       "      <th>min</th>\n",
       "      <td>66.000000</td>\n",
       "      <td>12.000000</td>\n",
       "      <td>31.000000</td>\n",
       "      <td>-647.872340</td>\n",
       "      <td>15.555556</td>\n",
       "      <td>1.096163</td>\n",
       "      <td>1.767352</td>\n",
       "    </tr>\n",
       "    <tr>\n",
       "      <th>25%</th>\n",
       "      <td>524.000000</td>\n",
       "      <td>54.000000</td>\n",
       "      <td>87.000000</td>\n",
       "      <td>86.927480</td>\n",
       "      <td>80.741963</td>\n",
       "      <td>6.263982</td>\n",
       "      <td>10.304673</td>\n",
       "    </tr>\n",
       "    <tr>\n",
       "      <th>50%</th>\n",
       "      <td>772.000000</td>\n",
       "      <td>67.000000</td>\n",
       "      <td>106.000000</td>\n",
       "      <td>90.946716</td>\n",
       "      <td>85.734266</td>\n",
       "      <td>9.053284</td>\n",
       "      <td>14.265734</td>\n",
       "    </tr>\n",
       "    <tr>\n",
       "      <th>75%</th>\n",
       "      <td>1095.000000</td>\n",
       "      <td>83.000000</td>\n",
       "      <td>129.000000</td>\n",
       "      <td>93.736018</td>\n",
       "      <td>89.695327</td>\n",
       "      <td>13.072520</td>\n",
       "      <td>19.258037</td>\n",
       "    </tr>\n",
       "    <tr>\n",
       "      <th>max</th>\n",
       "      <td>3112.000000</td>\n",
       "      <td>847.000000</td>\n",
       "      <td>167.000000</td>\n",
       "      <td>98.903837</td>\n",
       "      <td>98.232648</td>\n",
       "      <td>747.872340</td>\n",
       "      <td>84.444444</td>\n",
       "    </tr>\n",
       "  </tbody>\n",
       "</table>\n",
       "</div>"
      ],
      "text/plain": [
       "          input_len    target_len  generate_len  compression_ratio  \\\n",
       "count  11490.000000  11490.000000  11490.000000       11490.000000   \n",
       "mean     858.563969     72.049869    108.956571          89.523156   \n",
       "std      440.230117     28.992050     29.390737           9.544727   \n",
       "min       66.000000     12.000000     31.000000        -647.872340   \n",
       "25%      524.000000     54.000000     87.000000          86.927480   \n",
       "50%      772.000000     67.000000    106.000000          90.946716   \n",
       "75%     1095.000000     83.000000    129.000000          93.736018   \n",
       "max     3112.000000    847.000000    167.000000          98.903837   \n",
       "\n",
       "       compression_ratio_generate  ratio_resume_article  \\\n",
       "count                11490.000000          11490.000000   \n",
       "mean                    84.448671             10.476844   \n",
       "std                      7.434774              9.544727   \n",
       "min                     15.555556              1.096163   \n",
       "25%                     80.741963              6.263982   \n",
       "50%                     85.734266              9.053284   \n",
       "75%                     89.695327             13.072520   \n",
       "max                     98.232648            747.872340   \n",
       "\n",
       "       ratio_generate_resume_article  \n",
       "count                   11490.000000  \n",
       "mean                       15.551329  \n",
       "std                         7.434774  \n",
       "min                         1.767352  \n",
       "25%                        10.304673  \n",
       "50%                        14.265734  \n",
       "75%                        19.258037  \n",
       "max                        84.444444  "
      ]
     },
     "execution_count": 86,
     "metadata": {},
     "output_type": "execute_result"
    }
   ],
   "source": [
    "data_len.describe()"
   ]
  },
  {
   "cell_type": "code",
   "execution_count": 85,
   "metadata": {},
   "outputs": [
    {
     "data": {
      "image/png": "[encoded data removed]",
      "text/plain": [
       "<Figure size 1000x600 with 1 Axes>"
      ]
     },
     "metadata": {},
     "output_type": "display_data"
    }
   ],
   "source": [
    "# Create the Seaborn histogram\n",
    "plt.figure(figsize=(10, 6))\n",
    "sns.histplot(data=data_len[(data_len.compression_ratio <=100) & (data_len.compression_ratio > 0)], x=\"compression_ratio\", bins=100, kde=True, label='Compression',stat=\"density\")\n",
    "sns.histplot(data=data_len[(data_len.compression_ratio <=100) & (data_len.compression_ratio > 0)], x=\"compression_ratio_generate\", bins=100, kde=True, label='Compression generate',stat=\"density\")\n",
    "\n",
    "# Add vertical lines for max token and mean token length\n",
    "#plt.axvline(x=tokenizer.model_max_length, color='r', linestyle='--', label=f'Max token: {tokenizer.model_max_length}')\n",
    "# plt.axvline(x=data_len[\"compression_ratio\"].mean(), color='g', linestyle='-', label=f'Mean: {data_len[\"compression_ratio\"].mean():.2f}')\n",
    "# plt.axvline(x=(data_len[\"compression_ratio\"].mean() + 2*data_len[\"compression_ratio\"].std()), color='r', linestyle='-', label=f'Mean + 2std: {data_len[\"compression_ratio\"].mean() + 2 *data_len[\"compression_ratio\"].std():.2f}')\n",
    "\n",
    "# Add title, labels, and legend\n",
    "plt.title('Distribution of the compression-info related with CNN dailly articles/highlights')\n",
    "plt.xlabel('Pourcentage of compression')\n",
    "plt.ylabel('Frequency')\n",
    "plt.legend()\n",
    "\n",
    "# Display the plot\n",
    "plt.show()\n"
   ]
  },
  {
   "cell_type": "markdown",
   "metadata": {},
   "source": [
    "## Compute scores "
   ]
  },
  {
   "cell_type": "code",
   "execution_count": null,
   "metadata": {},
   "outputs": [],
   "source": [
    "\n",
    "from rouge_score import rouge_scorer\n",
    "\n",
    "scorer = rouge_scorer.RougeScorer(['rouge1', 'rouge2', 'rougeL'], use_stemmer=True)\n",
    "\n",
    "# Define the evaluation function\n",
    "def evaluation_rouge_score(examples):\n",
    "    \"\"\"\n",
    "    Compute ROUGE scores for a batch of generated texts withe the rouge object from rouge_score\n",
    "    \"\"\"\n",
    "    generated_txt = examples[\"generated_txt\"]  # List of generated summaries\n",
    "    references = examples[\"references_txt\"]  # List of reference summaries\n",
    "\n",
    "    scores = scorer.score(generated_txt ,references)\n",
    "\n",
    "    return {\n",
    "        \"rouge1\": float(scores[\"rouge1\"].fmeasure),\n",
    "        \"rouge2\": float(scores[\"rouge2\"].fmeasure),\n",
    "        \"rougeL\": float(scores[\"rougeL\"].fmeasure)\n",
    "    }\n",
    "    # return [float(scores[\"rouge1\"].fmeasure), float(scores[\"rouge2\"].fmeasure) ,float(scores[\"rougeL\"].fmeasure)]\n",
    "\n"
   ]
  },
  {
   "cell_type": "code",
   "execution_count": 72,
   "metadata": {},
   "outputs": [
    {
     "data": {
      "text/html": [
       "<div>\n",
       "<style scoped>\n",
       "    .dataframe tbody tr th:only-of-type {\n",
       "        vertical-align: middle;\n",
       "    }\n",
       "\n",
       "    .dataframe tbody tr th {\n",
       "        vertical-align: top;\n",
       "    }\n",
       "\n",
       "    .dataframe thead th {\n",
       "        text-align: right;\n",
       "    }\n",
       "</style>\n",
       "<table border=\"1\" class=\"dataframe\">\n",
       "  <thead>\n",
       "    <tr style=\"text-align: right;\">\n",
       "      <th></th>\n",
       "      <th>rouge1</th>\n",
       "      <th>rouge2</th>\n",
       "      <th>rougeL</th>\n",
       "    </tr>\n",
       "  </thead>\n",
       "  <tbody>\n",
       "    <tr>\n",
       "      <th>0</th>\n",
       "      <td>0.481013</td>\n",
       "      <td>0.337662</td>\n",
       "      <td>0.430380</td>\n",
       "    </tr>\n",
       "    <tr>\n",
       "      <th>1</th>\n",
       "      <td>0.407767</td>\n",
       "      <td>0.198020</td>\n",
       "      <td>0.368932</td>\n",
       "    </tr>\n",
       "    <tr>\n",
       "      <th>2</th>\n",
       "      <td>0.405405</td>\n",
       "      <td>0.194444</td>\n",
       "      <td>0.270270</td>\n",
       "    </tr>\n",
       "    <tr>\n",
       "      <th>3</th>\n",
       "      <td>0.365591</td>\n",
       "      <td>0.131868</td>\n",
       "      <td>0.258065</td>\n",
       "    </tr>\n",
       "    <tr>\n",
       "      <th>4</th>\n",
       "      <td>0.456522</td>\n",
       "      <td>0.088889</td>\n",
       "      <td>0.217391</td>\n",
       "    </tr>\n",
       "    <tr>\n",
       "      <th>...</th>\n",
       "      <td>...</td>\n",
       "      <td>...</td>\n",
       "      <td>...</td>\n",
       "    </tr>\n",
       "    <tr>\n",
       "      <th>11485</th>\n",
       "      <td>0.415842</td>\n",
       "      <td>0.121212</td>\n",
       "      <td>0.257426</td>\n",
       "    </tr>\n",
       "    <tr>\n",
       "      <th>11486</th>\n",
       "      <td>0.533865</td>\n",
       "      <td>0.200803</td>\n",
       "      <td>0.278884</td>\n",
       "    </tr>\n",
       "    <tr>\n",
       "      <th>11487</th>\n",
       "      <td>0.558824</td>\n",
       "      <td>0.247525</td>\n",
       "      <td>0.196078</td>\n",
       "    </tr>\n",
       "    <tr>\n",
       "      <th>11488</th>\n",
       "      <td>0.280702</td>\n",
       "      <td>0.178571</td>\n",
       "      <td>0.263158</td>\n",
       "    </tr>\n",
       "    <tr>\n",
       "      <th>11489</th>\n",
       "      <td>0.502463</td>\n",
       "      <td>0.278607</td>\n",
       "      <td>0.295567</td>\n",
       "    </tr>\n",
       "  </tbody>\n",
       "</table>\n",
       "<p>11490 rows × 3 columns</p>\n",
       "</div>"
      ],
      "text/plain": [
       "         rouge1    rouge2    rougeL\n",
       "0      0.481013  0.337662  0.430380\n",
       "1      0.407767  0.198020  0.368932\n",
       "2      0.405405  0.194444  0.270270\n",
       "3      0.365591  0.131868  0.258065\n",
       "4      0.456522  0.088889  0.217391\n",
       "...         ...       ...       ...\n",
       "11485  0.415842  0.121212  0.257426\n",
       "11486  0.533865  0.200803  0.278884\n",
       "11487  0.558824  0.247525  0.196078\n",
       "11488  0.280702  0.178571  0.263158\n",
       "11489  0.502463  0.278607  0.295567\n",
       "\n",
       "[11490 rows x 3 columns]"
      ]
     },
     "execution_count": 72,
     "metadata": {},
     "output_type": "execute_result"
    }
   ],
   "source": [
    "df_score = pd.DataFrame(data_len.apply(evaluation_rouge_score, axis=1).tolist(), \n",
    "                          columns=[\"rouge1\", \"rouge2\", \"rougeL\"])\n",
    "df_score"
   ]
  },
  {
   "cell_type": "code",
   "execution_count": null,
   "metadata": {},
   "outputs": [],
   "source": [
    "data_len = pd.concat([data_len,df_score], axis=1)\n",
    "# data_len.to_csv(os.path.join(os.getcwd(),\"evaluations/results_evaluation_6497751_43_11/len_and_txt_and_score.csv\"),index=False)"
   ]
  },
  {
   "cell_type": "code",
   "execution_count": 155,
   "metadata": {},
   "outputs": [
    {
     "name": "stdout",
     "output_type": "stream",
     "text": [
      "score RL :  [0.21212121]\n",
      "expected : ['The man records himself descending mountain with fellow skier .\\nHe negotiates a number of trees and video is initially a success .\\nPair stop but the snowboarder fails to move from path of chairlift .\\nWhile posing for the camera the chairlift hits him hard in the head .\\nThe footage was recorded in the Chiisagata District of Japan .']\n",
      "generate : ['A snowboarder in Japan is decked out in purple holding a matching selfie stick at arm’s length.\\nRecording himself from behind, the man begins his descent of the mountain.\\nBut as he adjusts the camera, he is oblivious to the chairlift swinging into view behind.\\nThe empty chairlift deals him a heavy blow to the head while still filming himself.\\nSnowboarder can be heard making a scream as he holds the back of his head.']\n"
     ]
    }
   ],
   "source": [
    "exemple = data_len[data_len.rougeL<0.25].sample()\n",
    "print(\"score RL : \" ,exemple.rougeL.values)\n",
    "print(\"expected :\", exemple.references_txt.values)\n",
    "print(\"generate :\",exemple.generated_txt.values)"
   ]
  },
  {
   "cell_type": "markdown",
   "metadata": {},
   "source": [
    "## Local test with the Bart-large-finetune"
   ]
  },
  {
   "cell_type": "code",
   "execution_count": 126,
   "metadata": {},
   "outputs": [],
   "source": [
    "from transformers import BartForConditionalGeneration, BartTokenizer\n",
    "\n",
    "model = BartForConditionalGeneration.from_pretrained(\"./checkpoints/Bart-large-2025-03-07_12h44-6473173\", forced_bos_token_id=0)\n",
    "tok = BartTokenizer.from_pretrained(\"./checkpoints/Bart-large-2025-03-07_12h44-6473173\")\n",
    "example_english_phrase = \"What is the color of the <mask> ?\"\n",
    "batch = tok(example_english_phrase, return_tensors=\"pt\")\n",
    "\n"
   ]
  },
  {
   "cell_type": "code",
   "execution_count": 129,
   "metadata": {},
   "outputs": [
    {
     "data": {
      "text/plain": [
       "['The color of the man in the moon.What is the color of the moon?']"
      ]
     },
     "execution_count": 129,
     "metadata": {},
     "output_type": "execute_result"
    }
   ],
   "source": [
    "generated_ids = model.generate(batch[\"input_ids\"],early_stopping=True,do_sample=True)\n",
    "\n",
    "tok.batch_decode(generated_ids,skip_special_tokens=True)"
   ]
  },
  {
   "cell_type": "code",
   "execution_count": 130,
   "metadata": {},
   "outputs": [
    {
     "name": "stderr",
     "output_type": "stream",
     "text": [
      "/home/ivanhoe/Bureau/length-control-for-summarization/.venv/lib/python3.12/site-packages/transformers/tokenization_utils_base.py:1617: FutureWarning: `clean_up_tokenization_spaces` was not set. It will be set to `True` by default. This behavior will be deprecated in transformers v4.45, and will be then set to `False` by default. For more details check this issue: https://github.com/huggingface/transformers/issues/31884\n",
      "  warnings.warn(\n"
     ]
    }
   ],
   "source": [
    "from transformers import BartForConditionalGeneration, BartTokenizer\n",
    "\n",
    "model = BartForConditionalGeneration.from_pretrained(\"facebook/bart-large\", forced_bos_token_id=0)\n",
    "tok = BartTokenizer.from_pretrained(\"facebook/bart-large\")\n",
    "example_english_phrase = \"What is the color of the <mask> ?\"\n",
    "batch = tok(example_english_phrase, return_tensors=\"pt\")"
   ]
  },
  {
   "cell_type": "code",
   "execution_count": 148,
   "metadata": {},
   "outputs": [
    {
     "data": {
      "text/plain": [
       "['What is the color of the human eye ?']"
      ]
     },
     "execution_count": 148,
     "metadata": {},
     "output_type": "execute_result"
    }
   ],
   "source": [
    "generated_ids = model.generate(batch[\"input_ids\"],early_stopping=True,do_sample=True)\n",
    "\n",
    "tok.batch_decode(generated_ids,skip_special_tokens=True)"
   ]
  },
  {
   "cell_type": "code",
   "execution_count": null,
   "metadata": {},
   "outputs": [
    {
     "name": "stderr",
     "output_type": "stream",
     "text": [
      "Some weights of BartForCausalLM were not initialized from the model checkpoint at ./checkpoints/Bart-large-2025-03-07_12h44-6473173 and are newly initialized: ['lm_head.weight', 'model.decoder.embed_tokens.weight']\n",
      "You should probably TRAIN this model on a down-stream task to be able to use it for predictions and inference.\n"
     ]
    },
    {
     "data": {
      "text/plain": [
       "GenerationConfig {\n",
       "  \"bos_token_id\": 0,\n",
       "  \"decoder_start_token_id\": 2,\n",
       "  \"early_stopping\": true,\n",
       "  \"eos_token_id\": 2,\n",
       "  \"forced_bos_token_id\": 0,\n",
       "  \"forced_eos_token_id\": 2,\n",
       "  \"no_repeat_ngram_size\": 3,\n",
       "  \"num_beams\": 4,\n",
       "  \"pad_token_id\": 1\n",
       "}"
      ]
     },
     "execution_count": 149,
     "metadata": {},
     "output_type": "execute_result"
    }
   ],
   "source": [
    "from transformers import AutoModelForCausalLM\n",
    "\n",
    "model = AutoModelForCausalLM.from_pretrained(\"./checkpoints/Bart-large-2025-03-07_12h44-6473173\")\n",
    "model.generation_config"
   ]
  },
  {
   "cell_type": "code",
   "execution_count": 152,
   "metadata": {},
   "outputs": [
    {
     "data": {
      "text/plain": [
       "GenerationConfig {\n",
       "  \"bos_token_id\": 0,\n",
       "  \"decoder_start_token_id\": 2,\n",
       "  \"early_stopping\": true,\n",
       "  \"eos_token_id\": 2,\n",
       "  \"forced_bos_token_id\": 0,\n",
       "  \"forced_eos_token_id\": 2,\n",
       "  \"no_repeat_ngram_size\": 3,\n",
       "  \"num_beams\": 4,\n",
       "  \"pad_token_id\": 1\n",
       "}"
      ]
     },
     "execution_count": 152,
     "metadata": {},
     "output_type": "execute_result"
    }
   ],
   "source": [
    "model.generation_config"
   ]
  }
 ],
 "metadata": {
  "kernelspec": {
   "display_name": ".venv",
   "language": "python",
   "name": "python3"
  },
  "language_info": {
   "codemirror_mode": {
    "name": "ipython",
    "version": 3
   },
   "file_extension": ".py",
   "mimetype": "text/x-python",
   "name": "python",
   "nbconvert_exporter": "python",
   "pygments_lexer": "ipython3",
   "version": "3.12.3"
  }
 },
 "nbformat": 4,
 "nbformat_minor": 2
}
